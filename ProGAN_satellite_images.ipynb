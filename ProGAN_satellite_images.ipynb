{
  "nbformat": 4,
  "nbformat_minor": 0,
  "metadata": {
    "colab": {
      "provenance": [],
      "machine_shape": "hm",
      "gpuType": "A100",
      "mount_file_id": "1hP2CtW71ZBFvxnPx_oOCa6zqSFnVynUE",
      "authorship_tag": "ABX9TyO6oVKQoJCi4BI5ihydZshP",
      "include_colab_link": true
    },
    "kernelspec": {
      "name": "python3",
      "display_name": "Python 3"
    },
    "language_info": {
      "name": "python"
    },
    "accelerator": "GPU",
    "widgets": {
      "application/vnd.jupyter.widget-state+json": {
        "ff9fcc2c61424fd7992f15327b212019": {
          "model_module": "@jupyter-widgets/controls",
          "model_name": "HBoxModel",
          "model_module_version": "1.5.0",
          "state": {
            "_dom_classes": [],
            "_model_module": "@jupyter-widgets/controls",
            "_model_module_version": "1.5.0",
            "_model_name": "HBoxModel",
            "_view_count": null,
            "_view_module": "@jupyter-widgets/controls",
            "_view_module_version": "1.5.0",
            "_view_name": "HBoxView",
            "box_style": "",
            "children": [
              "IPY_MODEL_c3c1ef25cf724be4b9fc48605e670d8c",
              "IPY_MODEL_31a083212d0045719f2bbe07c9deeb2e",
              "IPY_MODEL_0a1e0835ac9747bd82002c14e12d2651"
            ],
            "layout": "IPY_MODEL_0afaf6493f714e4e90dd4614d9c41cac"
          }
        },
        "c3c1ef25cf724be4b9fc48605e670d8c": {
          "model_module": "@jupyter-widgets/controls",
          "model_name": "HTMLModel",
          "model_module_version": "1.5.0",
          "state": {
            "_dom_classes": [],
            "_model_module": "@jupyter-widgets/controls",
            "_model_module_version": "1.5.0",
            "_model_name": "HTMLModel",
            "_view_count": null,
            "_view_module": "@jupyter-widgets/controls",
            "_view_module_version": "1.5.0",
            "_view_name": "HTMLView",
            "description": "",
            "description_tooltip": null,
            "layout": "IPY_MODEL_04554475ad0942eea21128f1efa162db",
            "placeholder": "​",
            "style": "IPY_MODEL_09219c4a64b04d3ab17680d3b9b4bde8",
            "value": "README.md: 100%"
          }
        },
        "31a083212d0045719f2bbe07c9deeb2e": {
          "model_module": "@jupyter-widgets/controls",
          "model_name": "FloatProgressModel",
          "model_module_version": "1.5.0",
          "state": {
            "_dom_classes": [],
            "_model_module": "@jupyter-widgets/controls",
            "_model_module_version": "1.5.0",
            "_model_name": "FloatProgressModel",
            "_view_count": null,
            "_view_module": "@jupyter-widgets/controls",
            "_view_module_version": "1.5.0",
            "_view_name": "ProgressView",
            "bar_style": "success",
            "description": "",
            "description_tooltip": null,
            "layout": "IPY_MODEL_3426b9ecbabd489dae3b7363268f1735",
            "max": 289,
            "min": 0,
            "orientation": "horizontal",
            "style": "IPY_MODEL_c0b25a0732f44ebf95d28531ab80eaa8",
            "value": 289
          }
        },
        "0a1e0835ac9747bd82002c14e12d2651": {
          "model_module": "@jupyter-widgets/controls",
          "model_name": "HTMLModel",
          "model_module_version": "1.5.0",
          "state": {
            "_dom_classes": [],
            "_model_module": "@jupyter-widgets/controls",
            "_model_module_version": "1.5.0",
            "_model_name": "HTMLModel",
            "_view_count": null,
            "_view_module": "@jupyter-widgets/controls",
            "_view_module_version": "1.5.0",
            "_view_name": "HTMLView",
            "description": "",
            "description_tooltip": null,
            "layout": "IPY_MODEL_5f4778e2b1bb451d80c5e27e65976e61",
            "placeholder": "​",
            "style": "IPY_MODEL_5354212de4c9452895c02e81aa67f114",
            "value": " 289/289 [00:00&lt;00:00, 29.4kB/s]"
          }
        },
        "0afaf6493f714e4e90dd4614d9c41cac": {
          "model_module": "@jupyter-widgets/base",
          "model_name": "LayoutModel",
          "model_module_version": "1.2.0",
          "state": {
            "_model_module": "@jupyter-widgets/base",
            "_model_module_version": "1.2.0",
            "_model_name": "LayoutModel",
            "_view_count": null,
            "_view_module": "@jupyter-widgets/base",
            "_view_module_version": "1.2.0",
            "_view_name": "LayoutView",
            "align_content": null,
            "align_items": null,
            "align_self": null,
            "border": null,
            "bottom": null,
            "display": null,
            "flex": null,
            "flex_flow": null,
            "grid_area": null,
            "grid_auto_columns": null,
            "grid_auto_flow": null,
            "grid_auto_rows": null,
            "grid_column": null,
            "grid_gap": null,
            "grid_row": null,
            "grid_template_areas": null,
            "grid_template_columns": null,
            "grid_template_rows": null,
            "height": null,
            "justify_content": null,
            "justify_items": null,
            "left": null,
            "margin": null,
            "max_height": null,
            "max_width": null,
            "min_height": null,
            "min_width": null,
            "object_fit": null,
            "object_position": null,
            "order": null,
            "overflow": null,
            "overflow_x": null,
            "overflow_y": null,
            "padding": null,
            "right": null,
            "top": null,
            "visibility": null,
            "width": null
          }
        },
        "04554475ad0942eea21128f1efa162db": {
          "model_module": "@jupyter-widgets/base",
          "model_name": "LayoutModel",
          "model_module_version": "1.2.0",
          "state": {
            "_model_module": "@jupyter-widgets/base",
            "_model_module_version": "1.2.0",
            "_model_name": "LayoutModel",
            "_view_count": null,
            "_view_module": "@jupyter-widgets/base",
            "_view_module_version": "1.2.0",
            "_view_name": "LayoutView",
            "align_content": null,
            "align_items": null,
            "align_self": null,
            "border": null,
            "bottom": null,
            "display": null,
            "flex": null,
            "flex_flow": null,
            "grid_area": null,
            "grid_auto_columns": null,
            "grid_auto_flow": null,
            "grid_auto_rows": null,
            "grid_column": null,
            "grid_gap": null,
            "grid_row": null,
            "grid_template_areas": null,
            "grid_template_columns": null,
            "grid_template_rows": null,
            "height": null,
            "justify_content": null,
            "justify_items": null,
            "left": null,
            "margin": null,
            "max_height": null,
            "max_width": null,
            "min_height": null,
            "min_width": null,
            "object_fit": null,
            "object_position": null,
            "order": null,
            "overflow": null,
            "overflow_x": null,
            "overflow_y": null,
            "padding": null,
            "right": null,
            "top": null,
            "visibility": null,
            "width": null
          }
        },
        "09219c4a64b04d3ab17680d3b9b4bde8": {
          "model_module": "@jupyter-widgets/controls",
          "model_name": "DescriptionStyleModel",
          "model_module_version": "1.5.0",
          "state": {
            "_model_module": "@jupyter-widgets/controls",
            "_model_module_version": "1.5.0",
            "_model_name": "DescriptionStyleModel",
            "_view_count": null,
            "_view_module": "@jupyter-widgets/base",
            "_view_module_version": "1.2.0",
            "_view_name": "StyleView",
            "description_width": ""
          }
        },
        "3426b9ecbabd489dae3b7363268f1735": {
          "model_module": "@jupyter-widgets/base",
          "model_name": "LayoutModel",
          "model_module_version": "1.2.0",
          "state": {
            "_model_module": "@jupyter-widgets/base",
            "_model_module_version": "1.2.0",
            "_model_name": "LayoutModel",
            "_view_count": null,
            "_view_module": "@jupyter-widgets/base",
            "_view_module_version": "1.2.0",
            "_view_name": "LayoutView",
            "align_content": null,
            "align_items": null,
            "align_self": null,
            "border": null,
            "bottom": null,
            "display": null,
            "flex": null,
            "flex_flow": null,
            "grid_area": null,
            "grid_auto_columns": null,
            "grid_auto_flow": null,
            "grid_auto_rows": null,
            "grid_column": null,
            "grid_gap": null,
            "grid_row": null,
            "grid_template_areas": null,
            "grid_template_columns": null,
            "grid_template_rows": null,
            "height": null,
            "justify_content": null,
            "justify_items": null,
            "left": null,
            "margin": null,
            "max_height": null,
            "max_width": null,
            "min_height": null,
            "min_width": null,
            "object_fit": null,
            "object_position": null,
            "order": null,
            "overflow": null,
            "overflow_x": null,
            "overflow_y": null,
            "padding": null,
            "right": null,
            "top": null,
            "visibility": null,
            "width": null
          }
        },
        "c0b25a0732f44ebf95d28531ab80eaa8": {
          "model_module": "@jupyter-widgets/controls",
          "model_name": "ProgressStyleModel",
          "model_module_version": "1.5.0",
          "state": {
            "_model_module": "@jupyter-widgets/controls",
            "_model_module_version": "1.5.0",
            "_model_name": "ProgressStyleModel",
            "_view_count": null,
            "_view_module": "@jupyter-widgets/base",
            "_view_module_version": "1.2.0",
            "_view_name": "StyleView",
            "bar_color": null,
            "description_width": ""
          }
        },
        "5f4778e2b1bb451d80c5e27e65976e61": {
          "model_module": "@jupyter-widgets/base",
          "model_name": "LayoutModel",
          "model_module_version": "1.2.0",
          "state": {
            "_model_module": "@jupyter-widgets/base",
            "_model_module_version": "1.2.0",
            "_model_name": "LayoutModel",
            "_view_count": null,
            "_view_module": "@jupyter-widgets/base",
            "_view_module_version": "1.2.0",
            "_view_name": "LayoutView",
            "align_content": null,
            "align_items": null,
            "align_self": null,
            "border": null,
            "bottom": null,
            "display": null,
            "flex": null,
            "flex_flow": null,
            "grid_area": null,
            "grid_auto_columns": null,
            "grid_auto_flow": null,
            "grid_auto_rows": null,
            "grid_column": null,
            "grid_gap": null,
            "grid_row": null,
            "grid_template_areas": null,
            "grid_template_columns": null,
            "grid_template_rows": null,
            "height": null,
            "justify_content": null,
            "justify_items": null,
            "left": null,
            "margin": null,
            "max_height": null,
            "max_width": null,
            "min_height": null,
            "min_width": null,
            "object_fit": null,
            "object_position": null,
            "order": null,
            "overflow": null,
            "overflow_x": null,
            "overflow_y": null,
            "padding": null,
            "right": null,
            "top": null,
            "visibility": null,
            "width": null
          }
        },
        "5354212de4c9452895c02e81aa67f114": {
          "model_module": "@jupyter-widgets/controls",
          "model_name": "DescriptionStyleModel",
          "model_module_version": "1.5.0",
          "state": {
            "_model_module": "@jupyter-widgets/controls",
            "_model_module_version": "1.5.0",
            "_model_name": "DescriptionStyleModel",
            "_view_count": null,
            "_view_module": "@jupyter-widgets/base",
            "_view_module_version": "1.2.0",
            "_view_name": "StyleView",
            "description_width": ""
          }
        },
        "4974213e33e14a89a3392f10619cbd82": {
          "model_module": "@jupyter-widgets/controls",
          "model_name": "HBoxModel",
          "model_module_version": "1.5.0",
          "state": {
            "_dom_classes": [],
            "_model_module": "@jupyter-widgets/controls",
            "_model_module_version": "1.5.0",
            "_model_name": "HBoxModel",
            "_view_count": null,
            "_view_module": "@jupyter-widgets/controls",
            "_view_module_version": "1.5.0",
            "_view_name": "HBoxView",
            "box_style": "",
            "children": [
              "IPY_MODEL_14b87af18c4f4e68b1e5269d41f1ed18",
              "IPY_MODEL_c550794888cd49bab0da66b4bfc22f50",
              "IPY_MODEL_9c8fa1af4fd54b59909c5a4a5b0e81e2"
            ],
            "layout": "IPY_MODEL_d378f017d39a4cd79d33d91053233c2c"
          }
        },
        "14b87af18c4f4e68b1e5269d41f1ed18": {
          "model_module": "@jupyter-widgets/controls",
          "model_name": "HTMLModel",
          "model_module_version": "1.5.0",
          "state": {
            "_dom_classes": [],
            "_model_module": "@jupyter-widgets/controls",
            "_model_module_version": "1.5.0",
            "_model_name": "HTMLModel",
            "_view_count": null,
            "_view_module": "@jupyter-widgets/controls",
            "_view_module_version": "1.5.0",
            "_view_name": "HTMLView",
            "description": "",
            "description_tooltip": null,
            "layout": "IPY_MODEL_911aacb2010b4d92b18d2d55bf2cebcb",
            "placeholder": "​",
            "style": "IPY_MODEL_ed79c6b7e67f4e678d21c8822c35fb2a",
            "value": "train-00000-of-00001.parquet: 100%"
          }
        },
        "c550794888cd49bab0da66b4bfc22f50": {
          "model_module": "@jupyter-widgets/controls",
          "model_name": "FloatProgressModel",
          "model_module_version": "1.5.0",
          "state": {
            "_dom_classes": [],
            "_model_module": "@jupyter-widgets/controls",
            "_model_module_version": "1.5.0",
            "_model_name": "FloatProgressModel",
            "_view_count": null,
            "_view_module": "@jupyter-widgets/controls",
            "_view_module_version": "1.5.0",
            "_view_name": "ProgressView",
            "bar_style": "success",
            "description": "",
            "description_tooltip": null,
            "layout": "IPY_MODEL_369a380c51d945a1a12c8047ebca5867",
            "max": 356813437,
            "min": 0,
            "orientation": "horizontal",
            "style": "IPY_MODEL_d2a8d9b367fa4727a722243a14bfc5ef",
            "value": 356813437
          }
        },
        "9c8fa1af4fd54b59909c5a4a5b0e81e2": {
          "model_module": "@jupyter-widgets/controls",
          "model_name": "HTMLModel",
          "model_module_version": "1.5.0",
          "state": {
            "_dom_classes": [],
            "_model_module": "@jupyter-widgets/controls",
            "_model_module_version": "1.5.0",
            "_model_name": "HTMLModel",
            "_view_count": null,
            "_view_module": "@jupyter-widgets/controls",
            "_view_module_version": "1.5.0",
            "_view_name": "HTMLView",
            "description": "",
            "description_tooltip": null,
            "layout": "IPY_MODEL_b7810d1dab204bd3aee7037f1dc786b3",
            "placeholder": "​",
            "style": "IPY_MODEL_e1e55273795d462fa8583864731af78c",
            "value": " 357M/357M [00:01&lt;00:00, 247MB/s]"
          }
        },
        "d378f017d39a4cd79d33d91053233c2c": {
          "model_module": "@jupyter-widgets/base",
          "model_name": "LayoutModel",
          "model_module_version": "1.2.0",
          "state": {
            "_model_module": "@jupyter-widgets/base",
            "_model_module_version": "1.2.0",
            "_model_name": "LayoutModel",
            "_view_count": null,
            "_view_module": "@jupyter-widgets/base",
            "_view_module_version": "1.2.0",
            "_view_name": "LayoutView",
            "align_content": null,
            "align_items": null,
            "align_self": null,
            "border": null,
            "bottom": null,
            "display": null,
            "flex": null,
            "flex_flow": null,
            "grid_area": null,
            "grid_auto_columns": null,
            "grid_auto_flow": null,
            "grid_auto_rows": null,
            "grid_column": null,
            "grid_gap": null,
            "grid_row": null,
            "grid_template_areas": null,
            "grid_template_columns": null,
            "grid_template_rows": null,
            "height": null,
            "justify_content": null,
            "justify_items": null,
            "left": null,
            "margin": null,
            "max_height": null,
            "max_width": null,
            "min_height": null,
            "min_width": null,
            "object_fit": null,
            "object_position": null,
            "order": null,
            "overflow": null,
            "overflow_x": null,
            "overflow_y": null,
            "padding": null,
            "right": null,
            "top": null,
            "visibility": null,
            "width": null
          }
        },
        "911aacb2010b4d92b18d2d55bf2cebcb": {
          "model_module": "@jupyter-widgets/base",
          "model_name": "LayoutModel",
          "model_module_version": "1.2.0",
          "state": {
            "_model_module": "@jupyter-widgets/base",
            "_model_module_version": "1.2.0",
            "_model_name": "LayoutModel",
            "_view_count": null,
            "_view_module": "@jupyter-widgets/base",
            "_view_module_version": "1.2.0",
            "_view_name": "LayoutView",
            "align_content": null,
            "align_items": null,
            "align_self": null,
            "border": null,
            "bottom": null,
            "display": null,
            "flex": null,
            "flex_flow": null,
            "grid_area": null,
            "grid_auto_columns": null,
            "grid_auto_flow": null,
            "grid_auto_rows": null,
            "grid_column": null,
            "grid_gap": null,
            "grid_row": null,
            "grid_template_areas": null,
            "grid_template_columns": null,
            "grid_template_rows": null,
            "height": null,
            "justify_content": null,
            "justify_items": null,
            "left": null,
            "margin": null,
            "max_height": null,
            "max_width": null,
            "min_height": null,
            "min_width": null,
            "object_fit": null,
            "object_position": null,
            "order": null,
            "overflow": null,
            "overflow_x": null,
            "overflow_y": null,
            "padding": null,
            "right": null,
            "top": null,
            "visibility": null,
            "width": null
          }
        },
        "ed79c6b7e67f4e678d21c8822c35fb2a": {
          "model_module": "@jupyter-widgets/controls",
          "model_name": "DescriptionStyleModel",
          "model_module_version": "1.5.0",
          "state": {
            "_model_module": "@jupyter-widgets/controls",
            "_model_module_version": "1.5.0",
            "_model_name": "DescriptionStyleModel",
            "_view_count": null,
            "_view_module": "@jupyter-widgets/base",
            "_view_module_version": "1.2.0",
            "_view_name": "StyleView",
            "description_width": ""
          }
        },
        "369a380c51d945a1a12c8047ebca5867": {
          "model_module": "@jupyter-widgets/base",
          "model_name": "LayoutModel",
          "model_module_version": "1.2.0",
          "state": {
            "_model_module": "@jupyter-widgets/base",
            "_model_module_version": "1.2.0",
            "_model_name": "LayoutModel",
            "_view_count": null,
            "_view_module": "@jupyter-widgets/base",
            "_view_module_version": "1.2.0",
            "_view_name": "LayoutView",
            "align_content": null,
            "align_items": null,
            "align_self": null,
            "border": null,
            "bottom": null,
            "display": null,
            "flex": null,
            "flex_flow": null,
            "grid_area": null,
            "grid_auto_columns": null,
            "grid_auto_flow": null,
            "grid_auto_rows": null,
            "grid_column": null,
            "grid_gap": null,
            "grid_row": null,
            "grid_template_areas": null,
            "grid_template_columns": null,
            "grid_template_rows": null,
            "height": null,
            "justify_content": null,
            "justify_items": null,
            "left": null,
            "margin": null,
            "max_height": null,
            "max_width": null,
            "min_height": null,
            "min_width": null,
            "object_fit": null,
            "object_position": null,
            "order": null,
            "overflow": null,
            "overflow_x": null,
            "overflow_y": null,
            "padding": null,
            "right": null,
            "top": null,
            "visibility": null,
            "width": null
          }
        },
        "d2a8d9b367fa4727a722243a14bfc5ef": {
          "model_module": "@jupyter-widgets/controls",
          "model_name": "ProgressStyleModel",
          "model_module_version": "1.5.0",
          "state": {
            "_model_module": "@jupyter-widgets/controls",
            "_model_module_version": "1.5.0",
            "_model_name": "ProgressStyleModel",
            "_view_count": null,
            "_view_module": "@jupyter-widgets/base",
            "_view_module_version": "1.2.0",
            "_view_name": "StyleView",
            "bar_color": null,
            "description_width": ""
          }
        },
        "b7810d1dab204bd3aee7037f1dc786b3": {
          "model_module": "@jupyter-widgets/base",
          "model_name": "LayoutModel",
          "model_module_version": "1.2.0",
          "state": {
            "_model_module": "@jupyter-widgets/base",
            "_model_module_version": "1.2.0",
            "_model_name": "LayoutModel",
            "_view_count": null,
            "_view_module": "@jupyter-widgets/base",
            "_view_module_version": "1.2.0",
            "_view_name": "LayoutView",
            "align_content": null,
            "align_items": null,
            "align_self": null,
            "border": null,
            "bottom": null,
            "display": null,
            "flex": null,
            "flex_flow": null,
            "grid_area": null,
            "grid_auto_columns": null,
            "grid_auto_flow": null,
            "grid_auto_rows": null,
            "grid_column": null,
            "grid_gap": null,
            "grid_row": null,
            "grid_template_areas": null,
            "grid_template_columns": null,
            "grid_template_rows": null,
            "height": null,
            "justify_content": null,
            "justify_items": null,
            "left": null,
            "margin": null,
            "max_height": null,
            "max_width": null,
            "min_height": null,
            "min_width": null,
            "object_fit": null,
            "object_position": null,
            "order": null,
            "overflow": null,
            "overflow_x": null,
            "overflow_y": null,
            "padding": null,
            "right": null,
            "top": null,
            "visibility": null,
            "width": null
          }
        },
        "e1e55273795d462fa8583864731af78c": {
          "model_module": "@jupyter-widgets/controls",
          "model_name": "DescriptionStyleModel",
          "model_module_version": "1.5.0",
          "state": {
            "_model_module": "@jupyter-widgets/controls",
            "_model_module_version": "1.5.0",
            "_model_name": "DescriptionStyleModel",
            "_view_count": null,
            "_view_module": "@jupyter-widgets/base",
            "_view_module_version": "1.2.0",
            "_view_name": "StyleView",
            "description_width": ""
          }
        },
        "fd9702841294451a88535eabcfcbce84": {
          "model_module": "@jupyter-widgets/controls",
          "model_name": "HBoxModel",
          "model_module_version": "1.5.0",
          "state": {
            "_dom_classes": [],
            "_model_module": "@jupyter-widgets/controls",
            "_model_module_version": "1.5.0",
            "_model_name": "HBoxModel",
            "_view_count": null,
            "_view_module": "@jupyter-widgets/controls",
            "_view_module_version": "1.5.0",
            "_view_name": "HBoxView",
            "box_style": "",
            "children": [
              "IPY_MODEL_e8dd8b68919f491886f1906ad5aa7fb7",
              "IPY_MODEL_7a452f20fe5e4127ae891adde017796f",
              "IPY_MODEL_9c1e4f6372b14dfe9840d9cac2efa5a8"
            ],
            "layout": "IPY_MODEL_ff72030166ac422ea490d01465fe8de3"
          }
        },
        "e8dd8b68919f491886f1906ad5aa7fb7": {
          "model_module": "@jupyter-widgets/controls",
          "model_name": "HTMLModel",
          "model_module_version": "1.5.0",
          "state": {
            "_dom_classes": [],
            "_model_module": "@jupyter-widgets/controls",
            "_model_module_version": "1.5.0",
            "_model_name": "HTMLModel",
            "_view_count": null,
            "_view_module": "@jupyter-widgets/controls",
            "_view_module_version": "1.5.0",
            "_view_name": "HTMLView",
            "description": "",
            "description_tooltip": null,
            "layout": "IPY_MODEL_cea1cdbdd51541df825a988dfa811855",
            "placeholder": "​",
            "style": "IPY_MODEL_78eab9d425c04e858941de355ffc558e",
            "value": "Generating train split: 100%"
          }
        },
        "7a452f20fe5e4127ae891adde017796f": {
          "model_module": "@jupyter-widgets/controls",
          "model_name": "FloatProgressModel",
          "model_module_version": "1.5.0",
          "state": {
            "_dom_classes": [],
            "_model_module": "@jupyter-widgets/controls",
            "_model_module_version": "1.5.0",
            "_model_name": "FloatProgressModel",
            "_view_count": null,
            "_view_module": "@jupyter-widgets/controls",
            "_view_module_version": "1.5.0",
            "_view_name": "ProgressView",
            "bar_style": "success",
            "description": "",
            "description_tooltip": null,
            "layout": "IPY_MODEL_0e897697ffcc46f2a447cf5b0642ac4a",
            "max": 19929,
            "min": 0,
            "orientation": "horizontal",
            "style": "IPY_MODEL_cf9eb0225da5436dbee8934475b96420",
            "value": 19929
          }
        },
        "9c1e4f6372b14dfe9840d9cac2efa5a8": {
          "model_module": "@jupyter-widgets/controls",
          "model_name": "HTMLModel",
          "model_module_version": "1.5.0",
          "state": {
            "_dom_classes": [],
            "_model_module": "@jupyter-widgets/controls",
            "_model_module_version": "1.5.0",
            "_model_name": "HTMLModel",
            "_view_count": null,
            "_view_module": "@jupyter-widgets/controls",
            "_view_module_version": "1.5.0",
            "_view_name": "HTMLView",
            "description": "",
            "description_tooltip": null,
            "layout": "IPY_MODEL_3cc1e303e47e4b82b2d4e262b8a9941f",
            "placeholder": "​",
            "style": "IPY_MODEL_e9fcb1be86ce477cac2f9540382f35c1",
            "value": " 19929/19929 [00:00&lt;00:00, 35122.19 examples/s]"
          }
        },
        "ff72030166ac422ea490d01465fe8de3": {
          "model_module": "@jupyter-widgets/base",
          "model_name": "LayoutModel",
          "model_module_version": "1.2.0",
          "state": {
            "_model_module": "@jupyter-widgets/base",
            "_model_module_version": "1.2.0",
            "_model_name": "LayoutModel",
            "_view_count": null,
            "_view_module": "@jupyter-widgets/base",
            "_view_module_version": "1.2.0",
            "_view_name": "LayoutView",
            "align_content": null,
            "align_items": null,
            "align_self": null,
            "border": null,
            "bottom": null,
            "display": null,
            "flex": null,
            "flex_flow": null,
            "grid_area": null,
            "grid_auto_columns": null,
            "grid_auto_flow": null,
            "grid_auto_rows": null,
            "grid_column": null,
            "grid_gap": null,
            "grid_row": null,
            "grid_template_areas": null,
            "grid_template_columns": null,
            "grid_template_rows": null,
            "height": null,
            "justify_content": null,
            "justify_items": null,
            "left": null,
            "margin": null,
            "max_height": null,
            "max_width": null,
            "min_height": null,
            "min_width": null,
            "object_fit": null,
            "object_position": null,
            "order": null,
            "overflow": null,
            "overflow_x": null,
            "overflow_y": null,
            "padding": null,
            "right": null,
            "top": null,
            "visibility": null,
            "width": null
          }
        },
        "cea1cdbdd51541df825a988dfa811855": {
          "model_module": "@jupyter-widgets/base",
          "model_name": "LayoutModel",
          "model_module_version": "1.2.0",
          "state": {
            "_model_module": "@jupyter-widgets/base",
            "_model_module_version": "1.2.0",
            "_model_name": "LayoutModel",
            "_view_count": null,
            "_view_module": "@jupyter-widgets/base",
            "_view_module_version": "1.2.0",
            "_view_name": "LayoutView",
            "align_content": null,
            "align_items": null,
            "align_self": null,
            "border": null,
            "bottom": null,
            "display": null,
            "flex": null,
            "flex_flow": null,
            "grid_area": null,
            "grid_auto_columns": null,
            "grid_auto_flow": null,
            "grid_auto_rows": null,
            "grid_column": null,
            "grid_gap": null,
            "grid_row": null,
            "grid_template_areas": null,
            "grid_template_columns": null,
            "grid_template_rows": null,
            "height": null,
            "justify_content": null,
            "justify_items": null,
            "left": null,
            "margin": null,
            "max_height": null,
            "max_width": null,
            "min_height": null,
            "min_width": null,
            "object_fit": null,
            "object_position": null,
            "order": null,
            "overflow": null,
            "overflow_x": null,
            "overflow_y": null,
            "padding": null,
            "right": null,
            "top": null,
            "visibility": null,
            "width": null
          }
        },
        "78eab9d425c04e858941de355ffc558e": {
          "model_module": "@jupyter-widgets/controls",
          "model_name": "DescriptionStyleModel",
          "model_module_version": "1.5.0",
          "state": {
            "_model_module": "@jupyter-widgets/controls",
            "_model_module_version": "1.5.0",
            "_model_name": "DescriptionStyleModel",
            "_view_count": null,
            "_view_module": "@jupyter-widgets/base",
            "_view_module_version": "1.2.0",
            "_view_name": "StyleView",
            "description_width": ""
          }
        },
        "0e897697ffcc46f2a447cf5b0642ac4a": {
          "model_module": "@jupyter-widgets/base",
          "model_name": "LayoutModel",
          "model_module_version": "1.2.0",
          "state": {
            "_model_module": "@jupyter-widgets/base",
            "_model_module_version": "1.2.0",
            "_model_name": "LayoutModel",
            "_view_count": null,
            "_view_module": "@jupyter-widgets/base",
            "_view_module_version": "1.2.0",
            "_view_name": "LayoutView",
            "align_content": null,
            "align_items": null,
            "align_self": null,
            "border": null,
            "bottom": null,
            "display": null,
            "flex": null,
            "flex_flow": null,
            "grid_area": null,
            "grid_auto_columns": null,
            "grid_auto_flow": null,
            "grid_auto_rows": null,
            "grid_column": null,
            "grid_gap": null,
            "grid_row": null,
            "grid_template_areas": null,
            "grid_template_columns": null,
            "grid_template_rows": null,
            "height": null,
            "justify_content": null,
            "justify_items": null,
            "left": null,
            "margin": null,
            "max_height": null,
            "max_width": null,
            "min_height": null,
            "min_width": null,
            "object_fit": null,
            "object_position": null,
            "order": null,
            "overflow": null,
            "overflow_x": null,
            "overflow_y": null,
            "padding": null,
            "right": null,
            "top": null,
            "visibility": null,
            "width": null
          }
        },
        "cf9eb0225da5436dbee8934475b96420": {
          "model_module": "@jupyter-widgets/controls",
          "model_name": "ProgressStyleModel",
          "model_module_version": "1.5.0",
          "state": {
            "_model_module": "@jupyter-widgets/controls",
            "_model_module_version": "1.5.0",
            "_model_name": "ProgressStyleModel",
            "_view_count": null,
            "_view_module": "@jupyter-widgets/base",
            "_view_module_version": "1.2.0",
            "_view_name": "StyleView",
            "bar_color": null,
            "description_width": ""
          }
        },
        "3cc1e303e47e4b82b2d4e262b8a9941f": {
          "model_module": "@jupyter-widgets/base",
          "model_name": "LayoutModel",
          "model_module_version": "1.2.0",
          "state": {
            "_model_module": "@jupyter-widgets/base",
            "_model_module_version": "1.2.0",
            "_model_name": "LayoutModel",
            "_view_count": null,
            "_view_module": "@jupyter-widgets/base",
            "_view_module_version": "1.2.0",
            "_view_name": "LayoutView",
            "align_content": null,
            "align_items": null,
            "align_self": null,
            "border": null,
            "bottom": null,
            "display": null,
            "flex": null,
            "flex_flow": null,
            "grid_area": null,
            "grid_auto_columns": null,
            "grid_auto_flow": null,
            "grid_auto_rows": null,
            "grid_column": null,
            "grid_gap": null,
            "grid_row": null,
            "grid_template_areas": null,
            "grid_template_columns": null,
            "grid_template_rows": null,
            "height": null,
            "justify_content": null,
            "justify_items": null,
            "left": null,
            "margin": null,
            "max_height": null,
            "max_width": null,
            "min_height": null,
            "min_width": null,
            "object_fit": null,
            "object_position": null,
            "order": null,
            "overflow": null,
            "overflow_x": null,
            "overflow_y": null,
            "padding": null,
            "right": null,
            "top": null,
            "visibility": null,
            "width": null
          }
        },
        "e9fcb1be86ce477cac2f9540382f35c1": {
          "model_module": "@jupyter-widgets/controls",
          "model_name": "DescriptionStyleModel",
          "model_module_version": "1.5.0",
          "state": {
            "_model_module": "@jupyter-widgets/controls",
            "_model_module_version": "1.5.0",
            "_model_name": "DescriptionStyleModel",
            "_view_count": null,
            "_view_module": "@jupyter-widgets/base",
            "_view_module_version": "1.2.0",
            "_view_name": "StyleView",
            "description_width": ""
          }
        }
      }
    }
  },
  "cells": [
    {
      "cell_type": "markdown",
      "metadata": {
        "id": "view-in-github",
        "colab_type": "text"
      },
      "source": [
        "<a href=\"https://colab.research.google.com/github/Hasan-Bashir/MLforTerrainGeneration/blob/main/ProGAN_satellite_images.ipynb\" target=\"_parent\"><img src=\"https://colab.research.google.com/assets/colab-badge.svg\" alt=\"Open In Colab\"/></a>"
      ]
    },
    {
      "cell_type": "code",
      "source": [
        "# Pytorch implementation of ProGAN adapted from:\n",
        "# https://www.kaggle.com/code/tauilabdelilah/progan-implementation-from-scratch-pytorch/notebook\n",
        "# A full explanation of the ProGAN code from the author can be found at:\n",
        "# https://blog.paperspace.com/implementation-of-progan-from-scratch/\n",
        "\n",
        "!pip install datasets"
      ],
      "metadata": {
        "colab": {
          "base_uri": "https://localhost:8080/"
        },
        "id": "RGMjiumxV9sb",
        "outputId": "09a1038c-5d79-4e7f-a6c7-5e48f1918ca0"
      },
      "execution_count": null,
      "outputs": [
        {
          "output_type": "stream",
          "name": "stdout",
          "text": [
            "Collecting datasets\n",
            "  Downloading datasets-3.3.2-py3-none-any.whl.metadata (19 kB)\n",
            "Requirement already satisfied: filelock in /usr/local/lib/python3.11/dist-packages (from datasets) (3.17.0)\n",
            "Requirement already satisfied: numpy>=1.17 in /usr/local/lib/python3.11/dist-packages (from datasets) (1.26.4)\n",
            "Requirement already satisfied: pyarrow>=15.0.0 in /usr/local/lib/python3.11/dist-packages (from datasets) (18.1.0)\n",
            "Collecting dill<0.3.9,>=0.3.0 (from datasets)\n",
            "  Downloading dill-0.3.8-py3-none-any.whl.metadata (10 kB)\n",
            "Requirement already satisfied: pandas in /usr/local/lib/python3.11/dist-packages (from datasets) (2.2.2)\n",
            "Requirement already satisfied: requests>=2.32.2 in /usr/local/lib/python3.11/dist-packages (from datasets) (2.32.3)\n",
            "Requirement already satisfied: tqdm>=4.66.3 in /usr/local/lib/python3.11/dist-packages (from datasets) (4.67.1)\n",
            "Collecting xxhash (from datasets)\n",
            "  Downloading xxhash-3.5.0-cp311-cp311-manylinux_2_17_x86_64.manylinux2014_x86_64.whl.metadata (12 kB)\n",
            "Collecting multiprocess<0.70.17 (from datasets)\n",
            "  Downloading multiprocess-0.70.16-py311-none-any.whl.metadata (7.2 kB)\n",
            "Requirement already satisfied: fsspec<=2024.12.0,>=2023.1.0 in /usr/local/lib/python3.11/dist-packages (from fsspec[http]<=2024.12.0,>=2023.1.0->datasets) (2024.10.0)\n",
            "Requirement already satisfied: aiohttp in /usr/local/lib/python3.11/dist-packages (from datasets) (3.11.12)\n",
            "Requirement already satisfied: huggingface-hub>=0.24.0 in /usr/local/lib/python3.11/dist-packages (from datasets) (0.28.1)\n",
            "Requirement already satisfied: packaging in /usr/local/lib/python3.11/dist-packages (from datasets) (24.2)\n",
            "Requirement already satisfied: pyyaml>=5.1 in /usr/local/lib/python3.11/dist-packages (from datasets) (6.0.2)\n",
            "Requirement already satisfied: aiohappyeyeballs>=2.3.0 in /usr/local/lib/python3.11/dist-packages (from aiohttp->datasets) (2.4.6)\n",
            "Requirement already satisfied: aiosignal>=1.1.2 in /usr/local/lib/python3.11/dist-packages (from aiohttp->datasets) (1.3.2)\n",
            "Requirement already satisfied: attrs>=17.3.0 in /usr/local/lib/python3.11/dist-packages (from aiohttp->datasets) (25.1.0)\n",
            "Requirement already satisfied: frozenlist>=1.1.1 in /usr/local/lib/python3.11/dist-packages (from aiohttp->datasets) (1.5.0)\n",
            "Requirement already satisfied: multidict<7.0,>=4.5 in /usr/local/lib/python3.11/dist-packages (from aiohttp->datasets) (6.1.0)\n",
            "Requirement already satisfied: propcache>=0.2.0 in /usr/local/lib/python3.11/dist-packages (from aiohttp->datasets) (0.3.0)\n",
            "Requirement already satisfied: yarl<2.0,>=1.17.0 in /usr/local/lib/python3.11/dist-packages (from aiohttp->datasets) (1.18.3)\n",
            "Requirement already satisfied: typing-extensions>=3.7.4.3 in /usr/local/lib/python3.11/dist-packages (from huggingface-hub>=0.24.0->datasets) (4.12.2)\n",
            "Requirement already satisfied: charset-normalizer<4,>=2 in /usr/local/lib/python3.11/dist-packages (from requests>=2.32.2->datasets) (3.4.1)\n",
            "Requirement already satisfied: idna<4,>=2.5 in /usr/local/lib/python3.11/dist-packages (from requests>=2.32.2->datasets) (3.10)\n",
            "Requirement already satisfied: urllib3<3,>=1.21.1 in /usr/local/lib/python3.11/dist-packages (from requests>=2.32.2->datasets) (2.3.0)\n",
            "Requirement already satisfied: certifi>=2017.4.17 in /usr/local/lib/python3.11/dist-packages (from requests>=2.32.2->datasets) (2025.1.31)\n",
            "Requirement already satisfied: python-dateutil>=2.8.2 in /usr/local/lib/python3.11/dist-packages (from pandas->datasets) (2.8.2)\n",
            "Requirement already satisfied: pytz>=2020.1 in /usr/local/lib/python3.11/dist-packages (from pandas->datasets) (2025.1)\n",
            "Requirement already satisfied: tzdata>=2022.7 in /usr/local/lib/python3.11/dist-packages (from pandas->datasets) (2025.1)\n",
            "Requirement already satisfied: six>=1.5 in /usr/local/lib/python3.11/dist-packages (from python-dateutil>=2.8.2->pandas->datasets) (1.17.0)\n",
            "Downloading datasets-3.3.2-py3-none-any.whl (485 kB)\n",
            "\u001b[2K   \u001b[90m━━━━━━━━━━━━━━━━━━━━━━━━━━━━━━━━━━━━━━━━\u001b[0m \u001b[32m485.4/485.4 kB\u001b[0m \u001b[31m9.5 MB/s\u001b[0m eta \u001b[36m0:00:00\u001b[0m\n",
            "\u001b[?25hDownloading dill-0.3.8-py3-none-any.whl (116 kB)\n",
            "\u001b[2K   \u001b[90m━━━━━━━━━━━━━━━━━━━━━━━━━━━━━━━━━━━━━━━━\u001b[0m \u001b[32m116.3/116.3 kB\u001b[0m \u001b[31m12.3 MB/s\u001b[0m eta \u001b[36m0:00:00\u001b[0m\n",
            "\u001b[?25hDownloading multiprocess-0.70.16-py311-none-any.whl (143 kB)\n",
            "\u001b[2K   \u001b[90m━━━━━━━━━━━━━━━━━━━━━━━━━━━━━━━━━━━━━━━━\u001b[0m \u001b[32m143.5/143.5 kB\u001b[0m \u001b[31m14.8 MB/s\u001b[0m eta \u001b[36m0:00:00\u001b[0m\n",
            "\u001b[?25hDownloading xxhash-3.5.0-cp311-cp311-manylinux_2_17_x86_64.manylinux2014_x86_64.whl (194 kB)\n",
            "\u001b[2K   \u001b[90m━━━━━━━━━━━━━━━━━━━━━━━━━━━━━━━━━━━━━━━━\u001b[0m \u001b[32m194.8/194.8 kB\u001b[0m \u001b[31m20.1 MB/s\u001b[0m eta \u001b[36m0:00:00\u001b[0m\n",
            "\u001b[?25hInstalling collected packages: xxhash, dill, multiprocess, datasets\n",
            "Successfully installed datasets-3.3.2 dill-0.3.8 multiprocess-0.70.16 xxhash-3.5.0\n"
          ]
        }
      ]
    },
    {
      "cell_type": "code",
      "execution_count": null,
      "metadata": {
        "id": "cLbqNn8FJRIB"
      },
      "outputs": [],
      "source": [
        "import torch\n",
        "from torch import nn, optim\n",
        "from torchvision import transforms\n",
        "import torch.nn.functional as F\n",
        "from torch.utils.data import DataLoader, Dataset\n",
        "from torchvision.utils import save_image\n",
        "from math import log2\n",
        "import numpy as np\n",
        "import os\n",
        "from tqdm import tqdm\n",
        "import matplotlib.pyplot as plt\n",
        "from datasets import load_dataset\n",
        "from PIL import Image, UnidentifiedImageError\n",
        "import io\n",
        "import logging\n",
        "\n",
        "\n",
        "logging.basicConfig(level=logging.INFO)\n",
        "logger = logging.getLogger(__name__)\n",
        "\n",
        "def seed_everything(seed=42):\n",
        "    os.environ['PYTHONHASHSEED'] = str(seed)\n",
        "    np.random.seed(seed)\n",
        "    torch.manual_seed(seed)\n",
        "    torch.cuda.manual_seed(seed)\n",
        "    torch.cuda.manual_seed_all(seed)\n",
        "    torch.backends.cudnn.deterministic = True\n",
        "    torch.backends.cudnn.benchmark = False\n",
        "seed_everything()"
      ]
    },
    {
      "cell_type": "code",
      "source": [
        "DATASET                 = \"HasanBashir/satellite-gan\"\n",
        "START_TRAIN_AT_IMG_SIZE = 4\n",
        "DEVICE                  = \"cuda\" if torch.cuda.is_available() else \"cpu\"\n",
        "LEARNING_RATE           = 1e-3\n",
        "BATCH_SIZES             = [32, 32, 32, 16, 16, 16] #you can use [32, 32, 32, 16, 16, 16, 16, 8, 4] for example if you want to train until 1024x1024, but again this numbers depend on your vram\n",
        "image_size              = 128\n",
        "CHANNELS_IMG            = 3\n",
        "Z_DIM                   = 256  # should be 512 in original paper\n",
        "IN_CHANNELS             = 256  # should be 512 in original paper\n",
        "LAMBDA_GP               = 10\n",
        "PROGRESSIVE_EPOCHS      = [30] * len(BATCH_SIZES)"
      ],
      "metadata": {
        "id": "2Ylw4FKNKAJ1"
      },
      "execution_count": null,
      "outputs": []
    },
    {
      "cell_type": "code",
      "source": [
        "# This code is used to validate the satellite images in the hugging face dataset.\n",
        "# If the dataset contains any satellite images that are invalid (corrupted/unreadable), we skip that image.\n",
        "\n",
        "\n",
        "class SatelliteDataset(Dataset):\n",
        "    def __init__(self, hf_dataset, transform=None):\n",
        "        self.dataset = hf_dataset\n",
        "        self.transform = transform\n",
        "        self.valid_indices = []\n",
        "\n",
        "        # Validate all images in the dataset first\n",
        "        logger.info(\"Validating dataset images...\")\n",
        "        for i in tqdm(range(len(hf_dataset))):\n",
        "            try:\n",
        "                img_data = hf_dataset[i]['image']\n",
        "                if isinstance(img_data, Image.Image):\n",
        "                    # Already a PIL image\n",
        "                    self.valid_indices.append(i)\n",
        "                else:\n",
        "                    # Try to open from bytes\n",
        "                    Image.open(io.BytesIO(img_data)).verify()\n",
        "                    self.valid_indices.append(i)\n",
        "            except (UnidentifiedImageError, TypeError, ValueError, OSError) as e:\n",
        "                logger.warning(f\"Skipping invalid image at index {i}: {str(e)}\")\n",
        "                continue\n",
        "\n",
        "        logger.info(f\"Found {len(self.valid_indices)} valid images out of {len(hf_dataset)}\")\n",
        "    # Return the number of valid images in the dataset\n",
        "    def __len__(self):\n",
        "        return len(self.valid_indices)\n",
        "\n",
        "    def __getitem__(self, idx):\n",
        "        # Get the actual index from our valid image list\n",
        "        actual_idx = self.valid_indices[idx]\n",
        "\n",
        "        try:\n",
        "            # Extract the image from the dataset\n",
        "            img_data = self.dataset[actual_idx]['image']\n",
        "\n",
        "            # Convert to RGB Image if it's not already\n",
        "            if not isinstance(img_data, Image.Image):\n",
        "                img = Image.open(io.BytesIO(img_data)).convert(\"RGB\")\n",
        "            else:\n",
        "                img = img_data.convert(\"RGB\")\n",
        "\n",
        "            if self.transform:\n",
        "                img = self.transform(img)\n",
        "\n",
        "            # Return image with 0 as a dummy label (as we don't require labels for this task)\n",
        "            return img, 0\n",
        "\n",
        "        except (UnidentifiedImageError, TypeError, ValueError, OSError) as e:\n",
        "            # In case images are still unreadable, return a placeholder image\n",
        "            logger.error(f\"Error processing image at valid index {idx} (actual {actual_idx}): {str(e)}\")\n",
        "            # Return a placeholder image (black)\n",
        "            placeholder = torch.zeros((CHANNELS_IMG, image_size, image_size))\n",
        "            if self.transform:\n",
        "                # Apply the normalize part of the transform\n",
        "                placeholder = transforms.Normalize(\n",
        "                    [0.5 for _ in range(CHANNELS_IMG)],\n",
        "                    [0.5 for _ in range(CHANNELS_IMG)]\n",
        "                )(placeholder)\n",
        "            return placeholder, 0"
      ],
      "metadata": {
        "id": "ZyJyN5kqbKs_"
      },
      "execution_count": null,
      "outputs": []
    },
    {
      "cell_type": "code",
      "source": [
        "# Resize images to the size we require and transorm/normalise the dataset\n",
        "\n",
        "def get_loader(image_size):\n",
        "    transform = transforms.Compose(\n",
        "        [\n",
        "            transforms.Resize((image_size, image_size)),\n",
        "            transforms.ToTensor(),\n",
        "            transforms.RandomHorizontalFlip(p=0.5),\n",
        "            transforms.Normalize(\n",
        "                [0.5 for _ in range(CHANNELS_IMG)],\n",
        "                [0.5 for _ in range(CHANNELS_IMG)],\n",
        "            ),\n",
        "        ]\n",
        "    )\n",
        "    batch_size = BATCH_SIZES[int(log2(image_size / 4))]\n",
        "    logger.info(f\"Loading dataset {DATASET}...\")\n",
        "    hf_dataset = load_dataset(DATASET, split=\"train\", streaming=False)\n",
        "    dataset = SatelliteDataset(hf_dataset, transform=transform)\n",
        "    if len(dataset) == 0:\n",
        "        raise RuntimeError(\"No valid images found in the dataset!\")\n",
        "        # Create mini-batches\n",
        "    loader = DataLoader(\n",
        "        dataset,\n",
        "        batch_size=batch_size,\n",
        "        shuffle=True,\n",
        "        num_workers=4,\n",
        "        pin_memory=True,\n",
        "    )\n",
        "    return loader, dataset"
      ],
      "metadata": {
        "id": "nH6s7JwyKIeP"
      },
      "execution_count": null,
      "outputs": []
    },
    {
      "cell_type": "code",
      "source": [
        "# Check if everything works and produce some real training samples\n",
        "\n",
        "def check_loader():\n",
        "    loader,_ = get_loader(128)\n",
        "    cloth ,_ = next(iter(loader))\n",
        "    _, ax    = plt.subplots(3,3, figsize=(8,8))\n",
        "    plt.suptitle('Some real samples', fontsize=15, fontweight='bold')\n",
        "    ind = 0\n",
        "    for k in range(3):\n",
        "        for kk in range(3):\n",
        "            ind += 1\n",
        "            ax[k][kk].imshow((cloth[ind].permute(1,2,0)+1)/2)\n",
        "check_loader()"
      ],
      "metadata": {
        "id": "Umc1BO8GKWoV",
        "colab": {
          "base_uri": "https://localhost:8080/",
          "height": 1000,
          "referenced_widgets": [
            "ff9fcc2c61424fd7992f15327b212019",
            "c3c1ef25cf724be4b9fc48605e670d8c",
            "31a083212d0045719f2bbe07c9deeb2e",
            "0a1e0835ac9747bd82002c14e12d2651",
            "0afaf6493f714e4e90dd4614d9c41cac",
            "04554475ad0942eea21128f1efa162db",
            "09219c4a64b04d3ab17680d3b9b4bde8",
            "3426b9ecbabd489dae3b7363268f1735",
            "c0b25a0732f44ebf95d28531ab80eaa8",
            "5f4778e2b1bb451d80c5e27e65976e61",
            "5354212de4c9452895c02e81aa67f114",
            "4974213e33e14a89a3392f10619cbd82",
            "14b87af18c4f4e68b1e5269d41f1ed18",
            "c550794888cd49bab0da66b4bfc22f50",
            "9c8fa1af4fd54b59909c5a4a5b0e81e2",
            "d378f017d39a4cd79d33d91053233c2c",
            "911aacb2010b4d92b18d2d55bf2cebcb",
            "ed79c6b7e67f4e678d21c8822c35fb2a",
            "369a380c51d945a1a12c8047ebca5867",
            "d2a8d9b367fa4727a722243a14bfc5ef",
            "b7810d1dab204bd3aee7037f1dc786b3",
            "e1e55273795d462fa8583864731af78c",
            "fd9702841294451a88535eabcfcbce84",
            "e8dd8b68919f491886f1906ad5aa7fb7",
            "7a452f20fe5e4127ae891adde017796f",
            "9c1e4f6372b14dfe9840d9cac2efa5a8",
            "ff72030166ac422ea490d01465fe8de3",
            "cea1cdbdd51541df825a988dfa811855",
            "78eab9d425c04e858941de355ffc558e",
            "0e897697ffcc46f2a447cf5b0642ac4a",
            "cf9eb0225da5436dbee8934475b96420",
            "3cc1e303e47e4b82b2d4e262b8a9941f",
            "e9fcb1be86ce477cac2f9540382f35c1"
          ]
        },
        "outputId": "90f64428-81fc-4d98-bc82-5d35a86f2a17"
      },
      "execution_count": null,
      "outputs": [
        {
          "output_type": "stream",
          "name": "stderr",
          "text": [
            "/usr/local/lib/python3.11/dist-packages/huggingface_hub/utils/_auth.py:94: UserWarning: \n",
            "The secret `HF_TOKEN` does not exist in your Colab secrets.\n",
            "To authenticate with the Hugging Face Hub, create a token in your settings tab (https://huggingface.co/settings/tokens), set it as secret in your Google Colab and restart your session.\n",
            "You will be able to reuse this secret in all of your notebooks.\n",
            "Please note that authentication is recommended but still optional to access public models or datasets.\n",
            "  warnings.warn(\n"
          ]
        },
        {
          "output_type": "display_data",
          "data": {
            "text/plain": [
              "README.md:   0%|          | 0.00/289 [00:00<?, ?B/s]"
            ],
            "application/vnd.jupyter.widget-view+json": {
              "version_major": 2,
              "version_minor": 0,
              "model_id": "ff9fcc2c61424fd7992f15327b212019"
            }
          },
          "metadata": {}
        },
        {
          "output_type": "display_data",
          "data": {
            "text/plain": [
              "train-00000-of-00001.parquet:   0%|          | 0.00/357M [00:00<?, ?B/s]"
            ],
            "application/vnd.jupyter.widget-view+json": {
              "version_major": 2,
              "version_minor": 0,
              "model_id": "4974213e33e14a89a3392f10619cbd82"
            }
          },
          "metadata": {}
        },
        {
          "output_type": "display_data",
          "data": {
            "text/plain": [
              "Generating train split:   0%|          | 0/19929 [00:00<?, ? examples/s]"
            ],
            "application/vnd.jupyter.widget-view+json": {
              "version_major": 2,
              "version_minor": 0,
              "model_id": "fd9702841294451a88535eabcfcbce84"
            }
          },
          "metadata": {}
        },
        {
          "output_type": "stream",
          "name": "stderr",
          "text": [
            " 58%|█████▊    | 11604/19929 [00:07<00:05, 1552.35it/s]WARNING:__main__:Skipping invalid image at index 11608: cannot identify image file <_io.BytesIO object at 0x792412308310>\n",
            "100%|██████████| 19929/19929 [00:13<00:00, 1465.19it/s]\n"
          ]
        },
        {
          "output_type": "display_data",
          "data": {
            "text/plain": [
              "<Figure size 800x800 with 9 Axes>"
            ],
            "image/png": "[encoded data removed]"
          },
          "metadata": {}
        }
      ]
    },
    {
      "cell_type": "code",
      "source": [
        "factors = [1, 1, 1, 1, 1 / 2, 1 / 4, 1 / 8, 1 / 16, 1 / 32]"
      ],
      "metadata": {
        "id": "0MVOoj6zMWa3"
      },
      "execution_count": null,
      "outputs": []
    },
    {
      "cell_type": "code",
      "source": [
        "# Implementation of the equalised learning rate from ProGAN architecture.\n",
        "\n",
        "class WSConv2d(nn.Module):\n",
        "\n",
        "    def __init__(\n",
        "        self, in_channels, out_channels, kernel_size=3, stride=1, padding=1,\n",
        "    ):\n",
        "        super(WSConv2d, self).__init__()\n",
        "        self.conv      = nn.Conv2d(in_channels, out_channels, kernel_size, stride, padding)\n",
        "        self.scale     = (2 / (in_channels * (kernel_size ** 2))) ** 0.5\n",
        "        self.bias      = self.conv.bias #Copy the bias of the current column layer\n",
        "        self.conv.bias = None      #Remove the bias\n",
        "\n",
        "        # initialize conv layer\n",
        "        nn.init.normal_(self.conv.weight)\n",
        "        nn.init.zeros_(self.bias)\n",
        "\n",
        "    def forward(self, x):\n",
        "        return self.conv(x * self.scale) + self.bias.view(1, self.bias.shape[0], 1, 1)"
      ],
      "metadata": {
        "id": "96yzfkzXMX_b"
      },
      "execution_count": null,
      "outputs": []
    },
    {
      "cell_type": "code",
      "source": [
        "# Adding in pixelnorm normalisation\n",
        "\n",
        "class PixelNorm(nn.Module):\n",
        "    def __init__(self):\n",
        "        super(PixelNorm, self).__init__()\n",
        "        self.epsilon = 1e-8\n",
        "\n",
        "    def forward(self, x):\n",
        "        return x / torch.sqrt(torch.mean(x ** 2, dim=1, keepdim=True) + self.epsilon)"
      ],
      "metadata": {
        "id": "3_f_p2OoMadr"
      },
      "execution_count": null,
      "outputs": []
    },
    {
      "cell_type": "code",
      "source": [
        "class ConvBlock(nn.Module):\n",
        "    def __init__(self, in_channels, out_channels, use_pixelnorm=True):\n",
        "        super(ConvBlock, self).__init__()\n",
        "        self.use_pn = use_pixelnorm\n",
        "        self.conv1  = WSConv2d(in_channels, out_channels)\n",
        "        self.conv2  = WSConv2d(out_channels, out_channels)\n",
        "        self.leaky  = nn.LeakyReLU(0.2)\n",
        "        self.pn     = PixelNorm()\n",
        "\n",
        "    def forward(self, x):\n",
        "        x = self.leaky(self.conv1(x))\n",
        "        x = self.pn(x) if self.use_pn else x\n",
        "        x = self.leaky(self.conv2(x))\n",
        "        x = self.pn(x) if self.use_pn else x\n",
        "        return x"
      ],
      "metadata": {
        "id": "06euWiwIMciC"
      },
      "execution_count": null,
      "outputs": []
    },
    {
      "cell_type": "code",
      "source": [
        "# Create the generator\n",
        "\n",
        "class Generator(nn.Module):\n",
        "    def __init__(self, z_dim, in_channels, img_channels=3):\n",
        "        super(Generator, self).__init__()\n",
        "\n",
        "        # initial takes 1x1 -> 4x4\n",
        "        self.initial = nn.Sequential(\n",
        "            PixelNorm(),\n",
        "            nn.ConvTranspose2d(z_dim, in_channels, 4, 1, 0),\n",
        "            nn.LeakyReLU(0.2),\n",
        "            WSConv2d(in_channels, in_channels, kernel_size=3, stride=1, padding=1),\n",
        "            nn.LeakyReLU(0.2),\n",
        "            PixelNorm(),\n",
        "        )\n",
        "\n",
        "        self.initial_rgb = WSConv2d(\n",
        "            in_channels, img_channels, kernel_size=1, stride=1, padding=0\n",
        "        )\n",
        "        self.prog_blocks, self.rgb_layers = (\n",
        "            nn.ModuleList([]),\n",
        "            nn.ModuleList([self.initial_rgb]),\n",
        "        )\n",
        "\n",
        "        for i in range(\n",
        "            len(factors) - 1\n",
        "        ):  # -1 to prevent index error because of factors[i+1]\n",
        "            conv_in_c  = int(in_channels * factors[i])\n",
        "            conv_out_c = int(in_channels * factors[i + 1])\n",
        "            self.prog_blocks.append(ConvBlock(conv_in_c, conv_out_c))\n",
        "            self.rgb_layers.append(\n",
        "                WSConv2d(conv_out_c, img_channels, kernel_size=1, stride=1, padding=0)\n",
        "            )\n",
        "        # Fade in new layers\n",
        "    def fade_in(self, alpha, upscaled, generated):\n",
        "        # alpha should be scalar within [0, 1], and upscale.shape == generated.shape\n",
        "        return torch.tanh(alpha * generated + (1 - alpha) * upscaled)\n",
        "\n",
        "    def forward(self, x, alpha, steps):\n",
        "        out = self.initial(x)\n",
        "\n",
        "        if steps == 0:\n",
        "            return self.initial_rgb(out)\n",
        "\n",
        "        for step in range(steps):\n",
        "            upscaled = F.interpolate(out, scale_factor=2, mode=\"nearest\")\n",
        "            out = self.prog_blocks[step](upscaled)\n",
        "\n",
        "        # The number of channels in upscale will stay the same, while\n",
        "        # out which has moved through prog_blocks might change. To ensure\n",
        "        # we can convert both to rgb we use different rgb_layers\n",
        "        # (steps-1) and steps for upscaled, out respectively\n",
        "        final_upscaled = self.rgb_layers[steps - 1](upscaled)\n",
        "        final_out = self.rgb_layers[steps](out)\n",
        "        return self.fade_in(alpha, final_upscaled, final_out)"
      ],
      "metadata": {
        "id": "IN3mtalmMe-n"
      },
      "execution_count": null,
      "outputs": []
    },
    {
      "cell_type": "code",
      "source": [
        "# Create the discriminator\n",
        "\n",
        "class Discriminator(nn.Module):\n",
        "    def __init__(self, in_channels, img_channels=3):\n",
        "        super(Discriminator, self).__init__()\n",
        "        self.prog_blocks, self.rgb_layers = nn.ModuleList([]), nn.ModuleList([])\n",
        "        self.leaky = nn.LeakyReLU(0.2)\n",
        "\n",
        "        # here we work back ways from factors because the discriminator\n",
        "        # should be mirrored from the generator. So the first prog_block and\n",
        "        # rgb layer we append will work for input size 1024x1024, then 512->256-> etc\n",
        "        for i in range(len(factors) - 1, 0, -1):\n",
        "            conv_in = int(in_channels * factors[i])\n",
        "            conv_out = int(in_channels * factors[i - 1])\n",
        "            self.prog_blocks.append(ConvBlock(conv_in, conv_out, use_pixelnorm=False))\n",
        "            self.rgb_layers.append(\n",
        "                WSConv2d(img_channels, conv_in, kernel_size=1, stride=1, padding=0)\n",
        "            )\n",
        "\n",
        "        # this is just the RGB layer for 4x4 input size to \"mirror\" the generator initial_rgb\n",
        "        self.initial_rgb = WSConv2d(\n",
        "            img_channels, in_channels, kernel_size=1, stride=1, padding=0\n",
        "        )\n",
        "        self.rgb_layers.append(self.initial_rgb)\n",
        "        self.avg_pool = nn.AvgPool2d(\n",
        "            kernel_size=2, stride=2\n",
        "        )  # down sampling using avg pool\n",
        "\n",
        "        # this is the block for 4x4 input size\n",
        "        self.final_block = nn.Sequential(\n",
        "            # +1 to in_channels because we concatenate from MiniBatch std\n",
        "            WSConv2d(in_channels + 1, in_channels, kernel_size=3, padding=1),\n",
        "            nn.LeakyReLU(0.2),\n",
        "            WSConv2d(in_channels, in_channels, kernel_size=4, padding=0, stride=1),\n",
        "            nn.LeakyReLU(0.2),\n",
        "            WSConv2d(\n",
        "                in_channels, 1, kernel_size=1, padding=0, stride=1\n",
        "            ),  # we use this instead of linear layer\n",
        "        )\n",
        "\n",
        "    def fade_in(self, alpha, downscaled, out):\n",
        "        \"\"\"Used to fade in downscaled using avg pooling and output from CNN\"\"\"\n",
        "        # alpha should be scalar within [0, 1], and upscale.shape == generated.shape\n",
        "        return alpha * out + (1 - alpha) * downscaled\n",
        "\n",
        "    def minibatch_std(self, x):\n",
        "        batch_statistics = (\n",
        "            torch.std(x, dim=0).mean().repeat(x.shape[0], 1, x.shape[2], x.shape[3])\n",
        "        )\n",
        "        # we take the std for each example (across all channels, and pixels) then we repeat it\n",
        "        # for a single channel and concatenate it with the image. In this way the discriminator\n",
        "        # will get information about the variation in the batch/image\n",
        "        return torch.cat([x, batch_statistics], dim=1)\n",
        "\n",
        "    def forward(self, x, alpha, steps):\n",
        "        # where we should start in the list of prog_blocks, maybe a bit confusing but\n",
        "        # the last is for the 4x4. So example let's say steps=1, then we should start\n",
        "        # at the second to last because input_size will be 8x8. If steps==0 we just\n",
        "        # use the final block\n",
        "        cur_step = len(self.prog_blocks) - steps\n",
        "\n",
        "        # convert from rgb as initial step, this will depend on\n",
        "        # the image size (each will have it's on rgb layer)\n",
        "        out = self.leaky(self.rgb_layers[cur_step](x))\n",
        "\n",
        "        if steps == 0:  # i.e, image is 4x4\n",
        "            out = self.minibatch_std(out)\n",
        "            return self.final_block(out).view(out.shape[0], -1)\n",
        "\n",
        "        # because prog_blocks might change the channels, for down scale we use rgb_layer\n",
        "        # from previous/smaller size which in our case correlates to +1 in the indexing\n",
        "        downscaled = self.leaky(self.rgb_layers[cur_step + 1](self.avg_pool(x)))\n",
        "        out = self.avg_pool(self.prog_blocks[cur_step](out))\n",
        "\n",
        "        # the fade_in is done first between the downscaled and the input\n",
        "        # this is opposite from the generator\n",
        "        out = self.fade_in(alpha, downscaled, out)\n",
        "\n",
        "        for step in range(cur_step + 1, len(self.prog_blocks)):\n",
        "            out = self.prog_blocks[step](out)\n",
        "            out = self.avg_pool(out)\n",
        "\n",
        "        out = self.minibatch_std(out)\n",
        "        return self.final_block(out).view(out.shape[0], -1)"
      ],
      "metadata": {
        "id": "3ztfyiInMhnG"
      },
      "execution_count": null,
      "outputs": []
    },
    {
      "cell_type": "code",
      "source": [
        "# The gadient penalty function which is part of the loss function.\n",
        "\n",
        "def gradient_penalty(critic, real, fake, alpha, train_step, device=\"cpu\"):\n",
        "    BATCH_SIZE, C, H, W = real.shape\n",
        "    beta = torch.rand((BATCH_SIZE, 1, 1, 1)).repeat(1, C, H, W).to(device)\n",
        "    interpolated_images = real * beta + fake.detach() * (1 - beta)\n",
        "    interpolated_images.requires_grad_(True)\n",
        "\n",
        "    # Calculate critic scores\n",
        "    mixed_scores = critic(interpolated_images, alpha, train_step)\n",
        "\n",
        "    # Take the gradient of the scores with respect to the images\n",
        "    gradient = torch.autograd.grad(\n",
        "        inputs=interpolated_images,\n",
        "        outputs=mixed_scores,\n",
        "        grad_outputs=torch.ones_like(mixed_scores),\n",
        "        create_graph=True,\n",
        "        retain_graph=True,\n",
        "    )[0]\n",
        "    gradient = gradient.view(gradient.shape[0], -1)\n",
        "    gradient_norm = gradient.norm(2, dim=1)\n",
        "    gradient_penalty = torch.mean((gradient_norm - 1) ** 2)\n",
        "    return gradient_penalty"
      ],
      "metadata": {
        "id": "2GrJliKXMkPv"
      },
      "execution_count": null,
      "outputs": []
    },
    {
      "cell_type": "code",
      "source": [
        "# Generate 100 synthetic images at current resolution and save.\n",
        "\n",
        "def generate_examples(gen, steps, n=100):\n",
        "\n",
        "    gen.eval()\n",
        "    alpha = 1.0\n",
        "    for i in range(n):\n",
        "        with torch.no_grad():\n",
        "            noise = torch.randn(1, Z_DIM, 1, 1).to(DEVICE)\n",
        "            img = gen(noise, alpha, steps)\n",
        "            if not os.path.exists(f'saved_examples/step{steps}'):\n",
        "                os.makedirs(f'saved_examples/step{steps}')\n",
        "            save_image(img*0.5+0.5, f\"saved_examples/step{steps}/img_{i}.png\")\n",
        "    gen.train()"
      ],
      "metadata": {
        "id": "1LsENKpaMmb-"
      },
      "execution_count": null,
      "outputs": []
    },
    {
      "cell_type": "code",
      "source": [
        "torch.backends.cudnn.benchmarks = True\n"
      ],
      "metadata": {
        "id": "PgoZ0W52MoMk"
      },
      "execution_count": null,
      "outputs": []
    },
    {
      "cell_type": "code",
      "source": [
        "def train_fn(\n",
        "    critic,\n",
        "    gen,\n",
        "    loader,\n",
        "    dataset,\n",
        "    step,\n",
        "    alpha,\n",
        "    opt_critic,\n",
        "    opt_gen,\n",
        "):\n",
        "    loop = tqdm(loader, leave=True)\n",
        "    for batch_idx, (real, _) in enumerate(loop):\n",
        "        real = real.to(DEVICE)\n",
        "        cur_batch_size = real.shape[0]\n",
        "\n",
        "        # Train Critic: max E[critic(real)] - E[critic(fake)] <-> min -E[critic(real)] + E[critic(fake)]\n",
        "        # which is equivalent to minimizing the negative of the expression\n",
        "        noise = torch.randn(cur_batch_size, Z_DIM, 1, 1).to(DEVICE)\n",
        "\n",
        "        fake = gen(noise, alpha, step)\n",
        "        critic_real = critic(real, alpha, step)\n",
        "        critic_fake = critic(fake.detach(), alpha, step)\n",
        "        gp = gradient_penalty(critic, real, fake, alpha, step, device=DEVICE)\n",
        "        loss_critic = (\n",
        "            -(torch.mean(critic_real) - torch.mean(critic_fake))\n",
        "            + LAMBDA_GP * gp\n",
        "            + (0.001 * torch.mean(critic_real ** 2))\n",
        "        )\n",
        "\n",
        "        critic.zero_grad()\n",
        "        loss_critic.backward()\n",
        "        opt_critic.step()\n",
        "\n",
        "        # Train Generator: max E[critic(gen_fake)] <-> min -E[critic(gen_fake)]\n",
        "        gen_fake = critic(fake, alpha, step)\n",
        "        loss_gen = -torch.mean(gen_fake)\n",
        "\n",
        "        gen.zero_grad()\n",
        "        loss_gen.backward()\n",
        "        opt_gen.step()\n",
        "\n",
        "        # Update alpha and ensure less than 1\n",
        "        alpha += cur_batch_size / (\n",
        "            (PROGRESSIVE_EPOCHS[step] * 0.5) * len(dataset)\n",
        "        )\n",
        "        alpha = min(alpha, 1)\n",
        "\n",
        "        loop.set_postfix(\n",
        "            gp=gp.item(),\n",
        "            loss_critic=loss_critic.item(),\n",
        "        )\n",
        "\n",
        "\n",
        "    return alpha\n"
      ],
      "metadata": {
        "id": "o_fYxPIiMp-Z"
      },
      "execution_count": null,
      "outputs": []
    },
    {
      "cell_type": "code",
      "source": [
        "# Initialise the generator and discriminator (critic)\n",
        "\n",
        "gen = Generator(\n",
        "    Z_DIM, IN_CHANNELS, img_channels=CHANNELS_IMG\n",
        ").to(DEVICE)\n",
        "critic = Discriminator(\n",
        "    IN_CHANNELS, img_channels=CHANNELS_IMG\n",
        ").to(DEVICE)"
      ],
      "metadata": {
        "id": "fkIu3HZ4_BNG"
      },
      "execution_count": null,
      "outputs": []
    },
    {
      "cell_type": "code",
      "source": [
        "# initialize optimizers\n",
        "opt_gen = optim.Adam(gen.parameters(), lr=LEARNING_RATE, betas=(0.0, 0.99))\n",
        "opt_critic = optim.Adam(\n",
        "    critic.parameters(), lr=LEARNING_RATE, betas=(0.0, 0.99)\n",
        ")\n",
        "\n",
        "\n",
        "gen.train()\n",
        "critic.train()\n",
        "\n",
        "step = int(log2(START_TRAIN_AT_IMG_SIZE / 4))\n",
        "for num_epochs in PROGRESSIVE_EPOCHS:\n",
        "    alpha = 1e-5  # start with very low alpha, you can start with alpha=0\n",
        "    loader, dataset = get_loader(4 * 2 ** step)  # 4->0, 8->1, 16->2, 32->3, 64 -> 4\n",
        "    print(f\"Current image size: {4 * 2 ** step}\")\n",
        "\n",
        "    for epoch in range(num_epochs):\n",
        "        print(f\"Epoch [{epoch+1}/{num_epochs}]\")\n",
        "        alpha = train_fn(\n",
        "            critic,\n",
        "            gen,\n",
        "            loader,\n",
        "            dataset,\n",
        "            step,\n",
        "            alpha,\n",
        "            opt_critic,\n",
        "            opt_gen,\n",
        "        )\n",
        "    generate_examples(gen, step, n=100)\n",
        "\n",
        "\n",
        "    step += 1  # progress to the next img size"
      ],
      "metadata": {
        "colab": {
          "base_uri": "https://localhost:8080/"
        },
        "id": "Nyn9XHlPMsZu",
        "outputId": "cdb90d33-7117-4189-ae1c-57f106791225"
      },
      "execution_count": null,
      "outputs": [
        {
          "output_type": "stream",
          "name": "stderr",
          "text": [
            " 58%|█████▊    | 11492/19929 [00:07<00:05, 1502.43it/s]WARNING:__main__:Skipping invalid image at index 11608: cannot identify image file <_io.BytesIO object at 0x7923cd704720>\n",
            "100%|██████████| 19929/19929 [00:13<00:00, 1508.57it/s]\n"
          ]
        },
        {
          "output_type": "stream",
          "name": "stdout",
          "text": [
            "Current image size: 4\n",
            "Epoch [1/30]\n"
          ]
        },
        {
          "output_type": "stream",
          "name": "stderr",
          "text": [
            "100%|██████████| 623/623 [00:12<00:00, 48.37it/s, gp=0.00782, loss_critic=-0.0467]\n"
          ]
        },
        {
          "output_type": "stream",
          "name": "stdout",
          "text": [
            "Epoch [2/30]\n"
          ]
        },
        {
          "output_type": "stream",
          "name": "stderr",
          "text": [
            "100%|██████████| 623/623 [00:11<00:00, 56.13it/s, gp=0.00803, loss_critic=0.0164]\n"
          ]
        },
        {
          "output_type": "stream",
          "name": "stdout",
          "text": [
            "Epoch [3/30]\n"
          ]
        },
        {
          "output_type": "stream",
          "name": "stderr",
          "text": [
            "100%|██████████| 623/623 [00:11<00:00, 56.52it/s, gp=0.0128, loss_critic=0.0483]\n"
          ]
        },
        {
          "output_type": "stream",
          "name": "stdout",
          "text": [
            "Epoch [4/30]\n"
          ]
        },
        {
          "output_type": "stream",
          "name": "stderr",
          "text": [
            "100%|██████████| 623/623 [00:11<00:00, 56.36it/s, gp=0.00885, loss_critic=0.115]\n"
          ]
        },
        {
          "output_type": "stream",
          "name": "stdout",
          "text": [
            "Epoch [5/30]\n"
          ]
        },
        {
          "output_type": "stream",
          "name": "stderr",
          "text": [
            "100%|██████████| 623/623 [00:11<00:00, 55.32it/s, gp=0.00818, loss_critic=-0.0604]\n"
          ]
        },
        {
          "output_type": "stream",
          "name": "stdout",
          "text": [
            "Epoch [6/30]\n"
          ]
        },
        {
          "output_type": "stream",
          "name": "stderr",
          "text": [
            "100%|██████████| 623/623 [00:11<00:00, 55.85it/s, gp=0.00535, loss_critic=0.00866]\n"
          ]
        },
        {
          "output_type": "stream",
          "name": "stdout",
          "text": [
            "Epoch [7/30]\n"
          ]
        },
        {
          "output_type": "stream",
          "name": "stderr",
          "text": [
            "100%|██████████| 623/623 [00:11<00:00, 56.41it/s, gp=0.00214, loss_critic=-0.0331]\n"
          ]
        },
        {
          "output_type": "stream",
          "name": "stdout",
          "text": [
            "Epoch [8/30]\n"
          ]
        },
        {
          "output_type": "stream",
          "name": "stderr",
          "text": [
            "100%|██████████| 623/623 [00:11<00:00, 56.22it/s, gp=0.0101, loss_critic=0.000169]\n"
          ]
        },
        {
          "output_type": "stream",
          "name": "stdout",
          "text": [
            "Epoch [9/30]\n"
          ]
        },
        {
          "output_type": "stream",
          "name": "stderr",
          "text": [
            "100%|██████████| 623/623 [00:11<00:00, 55.45it/s, gp=0.00639, loss_critic=0.0553]\n"
          ]
        },
        {
          "output_type": "stream",
          "name": "stdout",
          "text": [
            "Epoch [10/30]\n"
          ]
        },
        {
          "output_type": "stream",
          "name": "stderr",
          "text": [
            "100%|██████████| 623/623 [00:11<00:00, 55.88it/s, gp=0.00149, loss_critic=0.0041]\n"
          ]
        },
        {
          "output_type": "stream",
          "name": "stdout",
          "text": [
            "Epoch [11/30]\n"
          ]
        },
        {
          "output_type": "stream",
          "name": "stderr",
          "text": [
            "100%|██████████| 623/623 [00:11<00:00, 56.08it/s, gp=0.00538, loss_critic=0.0292]\n"
          ]
        },
        {
          "output_type": "stream",
          "name": "stdout",
          "text": [
            "Epoch [12/30]\n"
          ]
        },
        {
          "output_type": "stream",
          "name": "stderr",
          "text": [
            "100%|██████████| 623/623 [00:10<00:00, 56.75it/s, gp=0.00692, loss_critic=0.0351]\n"
          ]
        },
        {
          "output_type": "stream",
          "name": "stdout",
          "text": [
            "Epoch [13/30]\n"
          ]
        },
        {
          "output_type": "stream",
          "name": "stderr",
          "text": [
            "100%|██████████| 623/623 [00:11<00:00, 55.91it/s, gp=0.00338, loss_critic=-0.00963]\n"
          ]
        },
        {
          "output_type": "stream",
          "name": "stdout",
          "text": [
            "Epoch [14/30]\n"
          ]
        },
        {
          "output_type": "stream",
          "name": "stderr",
          "text": [
            "100%|██████████| 623/623 [00:11<00:00, 56.01it/s, gp=0.00522, loss_critic=0.0603]\n"
          ]
        },
        {
          "output_type": "stream",
          "name": "stdout",
          "text": [
            "Epoch [15/30]\n"
          ]
        },
        {
          "output_type": "stream",
          "name": "stderr",
          "text": [
            "100%|██████████| 623/623 [00:11<00:00, 56.14it/s, gp=0.00502, loss_critic=0.124]\n"
          ]
        },
        {
          "output_type": "stream",
          "name": "stdout",
          "text": [
            "Epoch [16/30]\n"
          ]
        },
        {
          "output_type": "stream",
          "name": "stderr",
          "text": [
            "100%|██████████| 623/623 [00:11<00:00, 56.36it/s, gp=0.00377, loss_critic=0.0419]\n"
          ]
        },
        {
          "output_type": "stream",
          "name": "stdout",
          "text": [
            "Epoch [17/30]\n"
          ]
        },
        {
          "output_type": "stream",
          "name": "stderr",
          "text": [
            "100%|██████████| 623/623 [00:10<00:00, 57.88it/s, gp=0.00479, loss_critic=0.036]\n"
          ]
        },
        {
          "output_type": "stream",
          "name": "stdout",
          "text": [
            "Epoch [18/30]\n"
          ]
        },
        {
          "output_type": "stream",
          "name": "stderr",
          "text": [
            "100%|██████████| 623/623 [00:11<00:00, 55.63it/s, gp=0.00534, loss_critic=0.0567]\n"
          ]
        },
        {
          "output_type": "stream",
          "name": "stdout",
          "text": [
            "Epoch [19/30]\n"
          ]
        },
        {
          "output_type": "stream",
          "name": "stderr",
          "text": [
            "100%|██████████| 623/623 [00:11<00:00, 55.69it/s, gp=0.00373, loss_critic=0.115]\n"
          ]
        },
        {
          "output_type": "stream",
          "name": "stdout",
          "text": [
            "Epoch [20/30]\n"
          ]
        },
        {
          "output_type": "stream",
          "name": "stderr",
          "text": [
            "100%|██████████| 623/623 [00:11<00:00, 56.24it/s, gp=0.00799, loss_critic=0.0874]\n"
          ]
        },
        {
          "output_type": "stream",
          "name": "stdout",
          "text": [
            "Epoch [21/30]\n"
          ]
        },
        {
          "output_type": "stream",
          "name": "stderr",
          "text": [
            "100%|██████████| 623/623 [00:11<00:00, 55.76it/s, gp=0.00939, loss_critic=0.38]\n"
          ]
        },
        {
          "output_type": "stream",
          "name": "stdout",
          "text": [
            "Epoch [22/30]\n"
          ]
        },
        {
          "output_type": "stream",
          "name": "stderr",
          "text": [
            "100%|██████████| 623/623 [00:10<00:00, 57.24it/s, gp=0.00647, loss_critic=0.079]\n"
          ]
        },
        {
          "output_type": "stream",
          "name": "stdout",
          "text": [
            "Epoch [23/30]\n"
          ]
        },
        {
          "output_type": "stream",
          "name": "stderr",
          "text": [
            "100%|██████████| 623/623 [00:10<00:00, 56.74it/s, gp=0.0041, loss_critic=0.0488]\n"
          ]
        },
        {
          "output_type": "stream",
          "name": "stdout",
          "text": [
            "Epoch [24/30]\n"
          ]
        },
        {
          "output_type": "stream",
          "name": "stderr",
          "text": [
            "100%|██████████| 623/623 [00:10<00:00, 57.30it/s, gp=0.00202, loss_critic=0.0205]\n"
          ]
        },
        {
          "output_type": "stream",
          "name": "stdout",
          "text": [
            "Epoch [25/30]\n"
          ]
        },
        {
          "output_type": "stream",
          "name": "stderr",
          "text": [
            "100%|██████████| 623/623 [00:11<00:00, 56.01it/s, gp=0.00476, loss_critic=0.115]\n"
          ]
        },
        {
          "output_type": "stream",
          "name": "stdout",
          "text": [
            "Epoch [26/30]\n"
          ]
        },
        {
          "output_type": "stream",
          "name": "stderr",
          "text": [
            "100%|██████████| 623/623 [00:11<00:00, 55.95it/s, gp=0.00451, loss_critic=0.0715]\n"
          ]
        },
        {
          "output_type": "stream",
          "name": "stdout",
          "text": [
            "Epoch [27/30]\n"
          ]
        },
        {
          "output_type": "stream",
          "name": "stderr",
          "text": [
            "100%|██████████| 623/623 [00:11<00:00, 56.03it/s, gp=0.00534, loss_critic=-0.0027]\n"
          ]
        },
        {
          "output_type": "stream",
          "name": "stdout",
          "text": [
            "Epoch [28/30]\n"
          ]
        },
        {
          "output_type": "stream",
          "name": "stderr",
          "text": [
            "100%|██████████| 623/623 [00:11<00:00, 55.92it/s, gp=0.00391, loss_critic=0.0596]\n"
          ]
        },
        {
          "output_type": "stream",
          "name": "stdout",
          "text": [
            "Epoch [29/30]\n"
          ]
        },
        {
          "output_type": "stream",
          "name": "stderr",
          "text": [
            "100%|██████████| 623/623 [00:11<00:00, 56.18it/s, gp=0.003, loss_critic=0.0871]\n"
          ]
        },
        {
          "output_type": "stream",
          "name": "stdout",
          "text": [
            "Epoch [30/30]\n"
          ]
        },
        {
          "output_type": "stream",
          "name": "stderr",
          "text": [
            "100%|██████████| 623/623 [00:11<00:00, 55.95it/s, gp=0.00434, loss_critic=0.0894]\n",
            " 58%|█████▊    | 11592/19929 [00:07<00:05, 1455.05it/s]WARNING:__main__:Skipping invalid image at index 11608: cannot identify image file <_io.BytesIO object at 0x7923cd704720>\n",
            "100%|██████████| 19929/19929 [00:13<00:00, 1468.28it/s]\n"
          ]
        },
        {
          "output_type": "stream",
          "name": "stdout",
          "text": [
            "Current image size: 8\n",
            "Epoch [1/30]\n"
          ]
        },
        {
          "output_type": "stream",
          "name": "stderr",
          "text": [
            "100%|██████████| 623/623 [00:16<00:00, 36.85it/s, gp=0.00475, loss_critic=0.0105]\n"
          ]
        },
        {
          "output_type": "stream",
          "name": "stdout",
          "text": [
            "Epoch [2/30]\n"
          ]
        },
        {
          "output_type": "stream",
          "name": "stderr",
          "text": [
            "100%|██████████| 623/623 [00:17<00:00, 36.54it/s, gp=0.00617, loss_critic=0.0601]\n"
          ]
        },
        {
          "output_type": "stream",
          "name": "stdout",
          "text": [
            "Epoch [3/30]\n"
          ]
        },
        {
          "output_type": "stream",
          "name": "stderr",
          "text": [
            "100%|██████████| 623/623 [00:16<00:00, 37.58it/s, gp=0.00195, loss_critic=0.0285]\n"
          ]
        },
        {
          "output_type": "stream",
          "name": "stdout",
          "text": [
            "Epoch [4/30]\n"
          ]
        },
        {
          "output_type": "stream",
          "name": "stderr",
          "text": [
            "100%|██████████| 623/623 [00:16<00:00, 37.25it/s, gp=0.00442, loss_critic=0.13]\n"
          ]
        },
        {
          "output_type": "stream",
          "name": "stdout",
          "text": [
            "Epoch [5/30]\n"
          ]
        },
        {
          "output_type": "stream",
          "name": "stderr",
          "text": [
            "100%|██████████| 623/623 [00:16<00:00, 38.01it/s, gp=0.00287, loss_critic=-0.138]\n"
          ]
        },
        {
          "output_type": "stream",
          "name": "stdout",
          "text": [
            "Epoch [6/30]\n"
          ]
        },
        {
          "output_type": "stream",
          "name": "stderr",
          "text": [
            "100%|██████████| 623/623 [00:16<00:00, 38.11it/s, gp=0.0032, loss_critic=-0.0231]\n"
          ]
        },
        {
          "output_type": "stream",
          "name": "stdout",
          "text": [
            "Epoch [7/30]\n"
          ]
        },
        {
          "output_type": "stream",
          "name": "stderr",
          "text": [
            "100%|██████████| 623/623 [00:16<00:00, 37.79it/s, gp=0.00454, loss_critic=0.0826]\n"
          ]
        },
        {
          "output_type": "stream",
          "name": "stdout",
          "text": [
            "Epoch [8/30]\n"
          ]
        },
        {
          "output_type": "stream",
          "name": "stderr",
          "text": [
            "100%|██████████| 623/623 [00:16<00:00, 37.74it/s, gp=0.00511, loss_critic=0.219]\n"
          ]
        },
        {
          "output_type": "stream",
          "name": "stdout",
          "text": [
            "Epoch [9/30]\n"
          ]
        },
        {
          "output_type": "stream",
          "name": "stderr",
          "text": [
            "100%|██████████| 623/623 [00:16<00:00, 37.61it/s, gp=0.00456, loss_critic=-0.147]\n"
          ]
        },
        {
          "output_type": "stream",
          "name": "stdout",
          "text": [
            "Epoch [10/30]\n"
          ]
        },
        {
          "output_type": "stream",
          "name": "stderr",
          "text": [
            "100%|██████████| 623/623 [00:16<00:00, 36.98it/s, gp=0.00311, loss_critic=0.127]\n"
          ]
        },
        {
          "output_type": "stream",
          "name": "stdout",
          "text": [
            "Epoch [11/30]\n"
          ]
        },
        {
          "output_type": "stream",
          "name": "stderr",
          "text": [
            "100%|██████████| 623/623 [00:16<00:00, 37.40it/s, gp=0.00379, loss_critic=0.00978]\n"
          ]
        },
        {
          "output_type": "stream",
          "name": "stdout",
          "text": [
            "Epoch [12/30]\n"
          ]
        },
        {
          "output_type": "stream",
          "name": "stderr",
          "text": [
            "100%|██████████| 623/623 [00:16<00:00, 37.17it/s, gp=0.00435, loss_critic=-0.106]\n"
          ]
        },
        {
          "output_type": "stream",
          "name": "stdout",
          "text": [
            "Epoch [13/30]\n"
          ]
        },
        {
          "output_type": "stream",
          "name": "stderr",
          "text": [
            "100%|██████████| 623/623 [00:16<00:00, 37.57it/s, gp=0.00277, loss_critic=0.185]\n"
          ]
        },
        {
          "output_type": "stream",
          "name": "stdout",
          "text": [
            "Epoch [14/30]\n"
          ]
        },
        {
          "output_type": "stream",
          "name": "stderr",
          "text": [
            "100%|██████████| 623/623 [00:16<00:00, 37.51it/s, gp=0.00397, loss_critic=0.219]\n"
          ]
        },
        {
          "output_type": "stream",
          "name": "stdout",
          "text": [
            "Epoch [15/30]\n"
          ]
        },
        {
          "output_type": "stream",
          "name": "stderr",
          "text": [
            "100%|██████████| 623/623 [00:16<00:00, 37.36it/s, gp=0.00923, loss_critic=-0.0303]\n"
          ]
        },
        {
          "output_type": "stream",
          "name": "stdout",
          "text": [
            "Epoch [16/30]\n"
          ]
        },
        {
          "output_type": "stream",
          "name": "stderr",
          "text": [
            "100%|██████████| 623/623 [00:16<00:00, 37.34it/s, gp=0.00201, loss_critic=0.073]\n"
          ]
        },
        {
          "output_type": "stream",
          "name": "stdout",
          "text": [
            "Epoch [17/30]\n"
          ]
        },
        {
          "output_type": "stream",
          "name": "stderr",
          "text": [
            "100%|██████████| 623/623 [00:16<00:00, 36.66it/s, gp=0.00514, loss_critic=0.122]\n"
          ]
        },
        {
          "output_type": "stream",
          "name": "stdout",
          "text": [
            "Epoch [18/30]\n"
          ]
        },
        {
          "output_type": "stream",
          "name": "stderr",
          "text": [
            "100%|██████████| 623/623 [00:16<00:00, 37.07it/s, gp=0.00366, loss_critic=0.0569]\n"
          ]
        },
        {
          "output_type": "stream",
          "name": "stdout",
          "text": [
            "Epoch [19/30]\n"
          ]
        },
        {
          "output_type": "stream",
          "name": "stderr",
          "text": [
            "100%|██████████| 623/623 [00:16<00:00, 38.03it/s, gp=0.00314, loss_critic=0.111]\n"
          ]
        },
        {
          "output_type": "stream",
          "name": "stdout",
          "text": [
            "Epoch [20/30]\n"
          ]
        },
        {
          "output_type": "stream",
          "name": "stderr",
          "text": [
            "100%|██████████| 623/623 [00:16<00:00, 37.55it/s, gp=0.00377, loss_critic=0.109]\n"
          ]
        },
        {
          "output_type": "stream",
          "name": "stdout",
          "text": [
            "Epoch [21/30]\n"
          ]
        },
        {
          "output_type": "stream",
          "name": "stderr",
          "text": [
            "100%|██████████| 623/623 [00:17<00:00, 36.63it/s, gp=0.00426, loss_critic=0.0201]\n"
          ]
        },
        {
          "output_type": "stream",
          "name": "stdout",
          "text": [
            "Epoch [22/30]\n"
          ]
        },
        {
          "output_type": "stream",
          "name": "stderr",
          "text": [
            "100%|██████████| 623/623 [00:16<00:00, 37.16it/s, gp=0.00609, loss_critic=-0.0587]\n"
          ]
        },
        {
          "output_type": "stream",
          "name": "stdout",
          "text": [
            "Epoch [23/30]\n"
          ]
        },
        {
          "output_type": "stream",
          "name": "stderr",
          "text": [
            "100%|██████████| 623/623 [00:16<00:00, 37.35it/s, gp=0.00312, loss_critic=0.0733]\n"
          ]
        },
        {
          "output_type": "stream",
          "name": "stdout",
          "text": [
            "Epoch [24/30]\n"
          ]
        },
        {
          "output_type": "stream",
          "name": "stderr",
          "text": [
            "100%|██████████| 623/623 [00:16<00:00, 36.95it/s, gp=0.00286, loss_critic=-0.076]\n"
          ]
        },
        {
          "output_type": "stream",
          "name": "stdout",
          "text": [
            "Epoch [25/30]\n"
          ]
        },
        {
          "output_type": "stream",
          "name": "stderr",
          "text": [
            "100%|██████████| 623/623 [00:16<00:00, 37.95it/s, gp=0.00302, loss_critic=0.0414]\n"
          ]
        },
        {
          "output_type": "stream",
          "name": "stdout",
          "text": [
            "Epoch [26/30]\n"
          ]
        },
        {
          "output_type": "stream",
          "name": "stderr",
          "text": [
            "100%|██████████| 623/623 [00:16<00:00, 37.53it/s, gp=0.00359, loss_critic=0.0525]\n"
          ]
        },
        {
          "output_type": "stream",
          "name": "stdout",
          "text": [
            "Epoch [27/30]\n"
          ]
        },
        {
          "output_type": "stream",
          "name": "stderr",
          "text": [
            "100%|██████████| 623/623 [00:17<00:00, 36.46it/s, gp=0.0038, loss_critic=0.0438]\n"
          ]
        },
        {
          "output_type": "stream",
          "name": "stdout",
          "text": [
            "Epoch [28/30]\n"
          ]
        },
        {
          "output_type": "stream",
          "name": "stderr",
          "text": [
            "100%|██████████| 623/623 [00:16<00:00, 36.78it/s, gp=0.00518, loss_critic=0.0297]\n"
          ]
        },
        {
          "output_type": "stream",
          "name": "stdout",
          "text": [
            "Epoch [29/30]\n"
          ]
        },
        {
          "output_type": "stream",
          "name": "stderr",
          "text": [
            "100%|██████████| 623/623 [00:16<00:00, 37.10it/s, gp=0.00348, loss_critic=0.0172]\n"
          ]
        },
        {
          "output_type": "stream",
          "name": "stdout",
          "text": [
            "Epoch [30/30]\n"
          ]
        },
        {
          "output_type": "stream",
          "name": "stderr",
          "text": [
            "100%|██████████| 623/623 [00:16<00:00, 37.90it/s, gp=0.00348, loss_critic=0.00715]\n",
            " 58%|█████▊    | 11569/19929 [00:08<00:05, 1429.10it/s]WARNING:__main__:Skipping invalid image at index 11608: cannot identify image file <_io.BytesIO object at 0x792545117e20>\n",
            "100%|██████████| 19929/19929 [00:13<00:00, 1428.59it/s]\n"
          ]
        },
        {
          "output_type": "stream",
          "name": "stdout",
          "text": [
            "Current image size: 16\n",
            "Epoch [1/30]\n"
          ]
        },
        {
          "output_type": "stream",
          "name": "stderr",
          "text": [
            "100%|██████████| 623/623 [00:20<00:00, 30.62it/s, gp=0.00468, loss_critic=0.0961]\n"
          ]
        },
        {
          "output_type": "stream",
          "name": "stdout",
          "text": [
            "Epoch [2/30]\n"
          ]
        },
        {
          "output_type": "stream",
          "name": "stderr",
          "text": [
            "100%|██████████| 623/623 [00:20<00:00, 31.03it/s, gp=0.00805, loss_critic=-0.409]\n"
          ]
        },
        {
          "output_type": "stream",
          "name": "stdout",
          "text": [
            "Epoch [3/30]\n"
          ]
        },
        {
          "output_type": "stream",
          "name": "stderr",
          "text": [
            "100%|██████████| 623/623 [00:19<00:00, 31.22it/s, gp=0.00316, loss_critic=-0.684]\n"
          ]
        },
        {
          "output_type": "stream",
          "name": "stdout",
          "text": [
            "Epoch [4/30]\n"
          ]
        },
        {
          "output_type": "stream",
          "name": "stderr",
          "text": [
            "100%|██████████| 623/623 [00:20<00:00, 30.88it/s, gp=0.00391, loss_critic=-0.265]\n"
          ]
        },
        {
          "output_type": "stream",
          "name": "stdout",
          "text": [
            "Epoch [5/30]\n"
          ]
        },
        {
          "output_type": "stream",
          "name": "stderr",
          "text": [
            "100%|██████████| 623/623 [00:20<00:00, 31.00it/s, gp=0.00418, loss_critic=-0.471]\n"
          ]
        },
        {
          "output_type": "stream",
          "name": "stdout",
          "text": [
            "Epoch [6/30]\n"
          ]
        },
        {
          "output_type": "stream",
          "name": "stderr",
          "text": [
            "100%|██████████| 623/623 [00:20<00:00, 31.06it/s, gp=0.00468, loss_critic=-0.394]\n"
          ]
        },
        {
          "output_type": "stream",
          "name": "stdout",
          "text": [
            "Epoch [7/30]\n"
          ]
        },
        {
          "output_type": "stream",
          "name": "stderr",
          "text": [
            "100%|██████████| 623/623 [00:20<00:00, 30.76it/s, gp=0.00388, loss_critic=0.0344]\n"
          ]
        },
        {
          "output_type": "stream",
          "name": "stdout",
          "text": [
            "Epoch [8/30]\n"
          ]
        },
        {
          "output_type": "stream",
          "name": "stderr",
          "text": [
            "100%|██████████| 623/623 [00:20<00:00, 30.79it/s, gp=0.00629, loss_critic=-0.369]\n"
          ]
        },
        {
          "output_type": "stream",
          "name": "stdout",
          "text": [
            "Epoch [9/30]\n"
          ]
        },
        {
          "output_type": "stream",
          "name": "stderr",
          "text": [
            "100%|██████████| 623/623 [00:20<00:00, 30.42it/s, gp=0.00348, loss_critic=-0.296]\n"
          ]
        },
        {
          "output_type": "stream",
          "name": "stdout",
          "text": [
            "Epoch [10/30]\n"
          ]
        },
        {
          "output_type": "stream",
          "name": "stderr",
          "text": [
            "100%|██████████| 623/623 [00:20<00:00, 31.08it/s, gp=0.0073, loss_critic=0.262]\n"
          ]
        },
        {
          "output_type": "stream",
          "name": "stdout",
          "text": [
            "Epoch [11/30]\n"
          ]
        },
        {
          "output_type": "stream",
          "name": "stderr",
          "text": [
            "100%|██████████| 623/623 [00:20<00:00, 31.06it/s, gp=0.00712, loss_critic=0.0381]\n"
          ]
        },
        {
          "output_type": "stream",
          "name": "stdout",
          "text": [
            "Epoch [12/30]\n"
          ]
        },
        {
          "output_type": "stream",
          "name": "stderr",
          "text": [
            "100%|██████████| 623/623 [00:20<00:00, 30.44it/s, gp=0.00646, loss_critic=-0.544]\n"
          ]
        },
        {
          "output_type": "stream",
          "name": "stdout",
          "text": [
            "Epoch [13/30]\n"
          ]
        },
        {
          "output_type": "stream",
          "name": "stderr",
          "text": [
            "100%|██████████| 623/623 [00:20<00:00, 30.63it/s, gp=0.00303, loss_critic=-0.0856]\n"
          ]
        },
        {
          "output_type": "stream",
          "name": "stdout",
          "text": [
            "Epoch [14/30]\n"
          ]
        },
        {
          "output_type": "stream",
          "name": "stderr",
          "text": [
            "100%|██████████| 623/623 [00:20<00:00, 31.04it/s, gp=0.00542, loss_critic=-0.072]\n"
          ]
        },
        {
          "output_type": "stream",
          "name": "stdout",
          "text": [
            "Epoch [15/30]\n"
          ]
        },
        {
          "output_type": "stream",
          "name": "stderr",
          "text": [
            "100%|██████████| 623/623 [00:20<00:00, 30.90it/s, gp=0.0128, loss_critic=-0.249]\n"
          ]
        },
        {
          "output_type": "stream",
          "name": "stdout",
          "text": [
            "Epoch [16/30]\n"
          ]
        },
        {
          "output_type": "stream",
          "name": "stderr",
          "text": [
            "100%|██████████| 623/623 [00:20<00:00, 30.97it/s, gp=0.00287, loss_critic=0.0647]\n"
          ]
        },
        {
          "output_type": "stream",
          "name": "stdout",
          "text": [
            "Epoch [17/30]\n"
          ]
        },
        {
          "output_type": "stream",
          "name": "stderr",
          "text": [
            "100%|██████████| 623/623 [00:20<00:00, 31.01it/s, gp=0.00204, loss_critic=0.0237]\n"
          ]
        },
        {
          "output_type": "stream",
          "name": "stdout",
          "text": [
            "Epoch [18/30]\n"
          ]
        },
        {
          "output_type": "stream",
          "name": "stderr",
          "text": [
            "100%|██████████| 623/623 [00:19<00:00, 31.15it/s, gp=0.00444, loss_critic=0.0871]\n"
          ]
        },
        {
          "output_type": "stream",
          "name": "stdout",
          "text": [
            "Epoch [19/30]\n"
          ]
        },
        {
          "output_type": "stream",
          "name": "stderr",
          "text": [
            "100%|██████████| 623/623 [00:19<00:00, 31.17it/s, gp=0.00504, loss_critic=0.00772]\n"
          ]
        },
        {
          "output_type": "stream",
          "name": "stdout",
          "text": [
            "Epoch [20/30]\n"
          ]
        },
        {
          "output_type": "stream",
          "name": "stderr",
          "text": [
            "100%|██████████| 623/623 [00:20<00:00, 30.52it/s, gp=0.00167, loss_critic=0.143]\n"
          ]
        },
        {
          "output_type": "stream",
          "name": "stdout",
          "text": [
            "Epoch [21/30]\n"
          ]
        },
        {
          "output_type": "stream",
          "name": "stderr",
          "text": [
            "100%|██████████| 623/623 [00:20<00:00, 30.69it/s, gp=0.00403, loss_critic=-0.0995]\n"
          ]
        },
        {
          "output_type": "stream",
          "name": "stdout",
          "text": [
            "Epoch [22/30]\n"
          ]
        },
        {
          "output_type": "stream",
          "name": "stderr",
          "text": [
            "100%|██████████| 623/623 [00:20<00:00, 30.79it/s, gp=0.0015, loss_critic=0.0419]\n"
          ]
        },
        {
          "output_type": "stream",
          "name": "stdout",
          "text": [
            "Epoch [23/30]\n"
          ]
        },
        {
          "output_type": "stream",
          "name": "stderr",
          "text": [
            "100%|██████████| 623/623 [00:20<00:00, 31.04it/s, gp=0.00221, loss_critic=0.102]\n"
          ]
        },
        {
          "output_type": "stream",
          "name": "stdout",
          "text": [
            "Epoch [24/30]\n"
          ]
        },
        {
          "output_type": "stream",
          "name": "stderr",
          "text": [
            "100%|██████████| 623/623 [00:20<00:00, 30.84it/s, gp=0.00242, loss_critic=0.125]\n"
          ]
        },
        {
          "output_type": "stream",
          "name": "stdout",
          "text": [
            "Epoch [25/30]\n"
          ]
        },
        {
          "output_type": "stream",
          "name": "stderr",
          "text": [
            "100%|██████████| 623/623 [00:19<00:00, 31.46it/s, gp=0.00277, loss_critic=0.075]\n"
          ]
        },
        {
          "output_type": "stream",
          "name": "stdout",
          "text": [
            "Epoch [26/30]\n"
          ]
        },
        {
          "output_type": "stream",
          "name": "stderr",
          "text": [
            "100%|██████████| 623/623 [00:20<00:00, 30.82it/s, gp=0.00655, loss_critic=0.218]\n"
          ]
        },
        {
          "output_type": "stream",
          "name": "stdout",
          "text": [
            "Epoch [27/30]\n"
          ]
        },
        {
          "output_type": "stream",
          "name": "stderr",
          "text": [
            "100%|██████████| 623/623 [00:20<00:00, 30.59it/s, gp=0.00123, loss_critic=0.0314]\n"
          ]
        },
        {
          "output_type": "stream",
          "name": "stdout",
          "text": [
            "Epoch [28/30]\n"
          ]
        },
        {
          "output_type": "stream",
          "name": "stderr",
          "text": [
            "100%|██████████| 623/623 [00:20<00:00, 30.85it/s, gp=0.00188, loss_critic=0.0742]\n"
          ]
        },
        {
          "output_type": "stream",
          "name": "stdout",
          "text": [
            "Epoch [29/30]\n"
          ]
        },
        {
          "output_type": "stream",
          "name": "stderr",
          "text": [
            "100%|██████████| 623/623 [00:20<00:00, 30.93it/s, gp=0.00326, loss_critic=0.0389]\n"
          ]
        },
        {
          "output_type": "stream",
          "name": "stdout",
          "text": [
            "Epoch [30/30]\n"
          ]
        },
        {
          "output_type": "stream",
          "name": "stderr",
          "text": [
            "100%|██████████| 623/623 [00:20<00:00, 31.01it/s, gp=0.00232, loss_critic=0.0691]\n",
            " 58%|█████▊    | 11470/19929 [00:07<00:05, 1504.69it/s]WARNING:__main__:Skipping invalid image at index 11608: cannot identify image file <_io.BytesIO object at 0x792544cb5ee0>\n",
            "100%|██████████| 19929/19929 [00:13<00:00, 1512.60it/s]\n"
          ]
        },
        {
          "output_type": "stream",
          "name": "stdout",
          "text": [
            "Current image size: 32\n",
            "Epoch [1/30]\n"
          ]
        },
        {
          "output_type": "stream",
          "name": "stderr",
          "text": [
            "100%|██████████| 1246/1246 [00:47<00:00, 26.45it/s, gp=0.00848, loss_critic=0.285]\n"
          ]
        },
        {
          "output_type": "stream",
          "name": "stdout",
          "text": [
            "Epoch [2/30]\n"
          ]
        },
        {
          "output_type": "stream",
          "name": "stderr",
          "text": [
            "100%|██████████| 1246/1246 [00:47<00:00, 26.27it/s, gp=0.00374, loss_critic=-0.197]\n"
          ]
        },
        {
          "output_type": "stream",
          "name": "stdout",
          "text": [
            "Epoch [3/30]\n"
          ]
        },
        {
          "output_type": "stream",
          "name": "stderr",
          "text": [
            "100%|██████████| 1246/1246 [00:47<00:00, 26.50it/s, gp=0.0246, loss_critic=-0.687]\n"
          ]
        },
        {
          "output_type": "stream",
          "name": "stdout",
          "text": [
            "Epoch [4/30]\n"
          ]
        },
        {
          "output_type": "stream",
          "name": "stderr",
          "text": [
            "100%|██████████| 1246/1246 [00:47<00:00, 26.40it/s, gp=0.00119, loss_critic=0.332]\n"
          ]
        },
        {
          "output_type": "stream",
          "name": "stdout",
          "text": [
            "Epoch [5/30]\n"
          ]
        },
        {
          "output_type": "stream",
          "name": "stderr",
          "text": [
            "100%|██████████| 1246/1246 [00:47<00:00, 26.49it/s, gp=0.00867, loss_critic=-0.739]\n"
          ]
        },
        {
          "output_type": "stream",
          "name": "stdout",
          "text": [
            "Epoch [6/30]\n"
          ]
        },
        {
          "output_type": "stream",
          "name": "stderr",
          "text": [
            "100%|██████████| 1246/1246 [00:46<00:00, 26.59it/s, gp=0.00228, loss_critic=-0.0312]\n"
          ]
        },
        {
          "output_type": "stream",
          "name": "stdout",
          "text": [
            "Epoch [7/30]\n"
          ]
        },
        {
          "output_type": "stream",
          "name": "stderr",
          "text": [
            "100%|██████████| 1246/1246 [00:46<00:00, 26.51it/s, gp=0.00349, loss_critic=0.174]\n"
          ]
        },
        {
          "output_type": "stream",
          "name": "stdout",
          "text": [
            "Epoch [8/30]\n"
          ]
        },
        {
          "output_type": "stream",
          "name": "stderr",
          "text": [
            "100%|██████████| 1246/1246 [00:46<00:00, 26.69it/s, gp=0.00149, loss_critic=-0.0681]\n"
          ]
        },
        {
          "output_type": "stream",
          "name": "stdout",
          "text": [
            "Epoch [9/30]\n"
          ]
        },
        {
          "output_type": "stream",
          "name": "stderr",
          "text": [
            "100%|██████████| 1246/1246 [00:47<00:00, 26.41it/s, gp=0.00243, loss_critic=0.248]\n"
          ]
        },
        {
          "output_type": "stream",
          "name": "stdout",
          "text": [
            "Epoch [10/30]\n"
          ]
        },
        {
          "output_type": "stream",
          "name": "stderr",
          "text": [
            "100%|██████████| 1246/1246 [00:47<00:00, 26.27it/s, gp=0.0034, loss_critic=-0.308]\n"
          ]
        },
        {
          "output_type": "stream",
          "name": "stdout",
          "text": [
            "Epoch [11/30]\n"
          ]
        },
        {
          "output_type": "stream",
          "name": "stderr",
          "text": [
            "100%|██████████| 1246/1246 [00:47<00:00, 26.29it/s, gp=0.00843, loss_critic=-0.19]\n"
          ]
        },
        {
          "output_type": "stream",
          "name": "stdout",
          "text": [
            "Epoch [12/30]\n"
          ]
        },
        {
          "output_type": "stream",
          "name": "stderr",
          "text": [
            "100%|██████████| 1246/1246 [00:47<00:00, 26.43it/s, gp=0.00275, loss_critic=0.0803]\n"
          ]
        },
        {
          "output_type": "stream",
          "name": "stdout",
          "text": [
            "Epoch [13/30]\n"
          ]
        },
        {
          "output_type": "stream",
          "name": "stderr",
          "text": [
            "100%|██████████| 1246/1246 [00:47<00:00, 26.13it/s, gp=0.00297, loss_critic=0.319]\n"
          ]
        },
        {
          "output_type": "stream",
          "name": "stdout",
          "text": [
            "Epoch [14/30]\n"
          ]
        },
        {
          "output_type": "stream",
          "name": "stderr",
          "text": [
            "100%|██████████| 1246/1246 [00:46<00:00, 26.73it/s, gp=0.0105, loss_critic=-0.018]\n"
          ]
        },
        {
          "output_type": "stream",
          "name": "stdout",
          "text": [
            "Epoch [15/30]\n"
          ]
        },
        {
          "output_type": "stream",
          "name": "stderr",
          "text": [
            "100%|██████████| 1246/1246 [00:46<00:00, 26.64it/s, gp=0.00413, loss_critic=-0.178]\n"
          ]
        },
        {
          "output_type": "stream",
          "name": "stdout",
          "text": [
            "Epoch [16/30]\n"
          ]
        },
        {
          "output_type": "stream",
          "name": "stderr",
          "text": [
            "100%|██████████| 1246/1246 [00:47<00:00, 26.42it/s, gp=0.00241, loss_critic=-0.551]\n"
          ]
        },
        {
          "output_type": "stream",
          "name": "stdout",
          "text": [
            "Epoch [17/30]\n"
          ]
        },
        {
          "output_type": "stream",
          "name": "stderr",
          "text": [
            "100%|██████████| 1246/1246 [00:47<00:00, 26.38it/s, gp=0.00408, loss_critic=-0.104]\n"
          ]
        },
        {
          "output_type": "stream",
          "name": "stdout",
          "text": [
            "Epoch [18/30]\n"
          ]
        },
        {
          "output_type": "stream",
          "name": "stderr",
          "text": [
            "100%|██████████| 1246/1246 [00:47<00:00, 26.48it/s, gp=0.00883, loss_critic=0.335]\n"
          ]
        },
        {
          "output_type": "stream",
          "name": "stdout",
          "text": [
            "Epoch [19/30]\n"
          ]
        },
        {
          "output_type": "stream",
          "name": "stderr",
          "text": [
            "100%|██████████| 1246/1246 [00:46<00:00, 26.62it/s, gp=0.00522, loss_critic=0.276]\n"
          ]
        },
        {
          "output_type": "stream",
          "name": "stdout",
          "text": [
            "Epoch [20/30]\n"
          ]
        },
        {
          "output_type": "stream",
          "name": "stderr",
          "text": [
            "100%|██████████| 1246/1246 [00:46<00:00, 26.67it/s, gp=0.00194, loss_critic=-0.276]\n"
          ]
        },
        {
          "output_type": "stream",
          "name": "stdout",
          "text": [
            "Epoch [21/30]\n"
          ]
        },
        {
          "output_type": "stream",
          "name": "stderr",
          "text": [
            "100%|██████████| 1246/1246 [00:47<00:00, 26.45it/s, gp=0.00625, loss_critic=0.502]\n"
          ]
        },
        {
          "output_type": "stream",
          "name": "stdout",
          "text": [
            "Epoch [22/30]\n"
          ]
        },
        {
          "output_type": "stream",
          "name": "stderr",
          "text": [
            "100%|██████████| 1246/1246 [00:47<00:00, 26.41it/s, gp=0.00197, loss_critic=-0.0983]\n"
          ]
        },
        {
          "output_type": "stream",
          "name": "stdout",
          "text": [
            "Epoch [23/30]\n"
          ]
        },
        {
          "output_type": "stream",
          "name": "stderr",
          "text": [
            "100%|██████████| 1246/1246 [00:47<00:00, 26.23it/s, gp=0.00843, loss_critic=-0.0257]\n"
          ]
        },
        {
          "output_type": "stream",
          "name": "stdout",
          "text": [
            "Epoch [24/30]\n"
          ]
        },
        {
          "output_type": "stream",
          "name": "stderr",
          "text": [
            "100%|██████████| 1246/1246 [00:47<00:00, 26.40it/s, gp=0.0049, loss_critic=-0.0923]\n"
          ]
        },
        {
          "output_type": "stream",
          "name": "stdout",
          "text": [
            "Epoch [25/30]\n"
          ]
        },
        {
          "output_type": "stream",
          "name": "stderr",
          "text": [
            "100%|██████████| 1246/1246 [00:46<00:00, 26.61it/s, gp=0.00581, loss_critic=0.364]\n"
          ]
        },
        {
          "output_type": "stream",
          "name": "stdout",
          "text": [
            "Epoch [26/30]\n"
          ]
        },
        {
          "output_type": "stream",
          "name": "stderr",
          "text": [
            "100%|██████████| 1246/1246 [00:47<00:00, 26.48it/s, gp=0.00347, loss_critic=-0.561]\n"
          ]
        },
        {
          "output_type": "stream",
          "name": "stdout",
          "text": [
            "Epoch [27/30]\n"
          ]
        },
        {
          "output_type": "stream",
          "name": "stderr",
          "text": [
            "100%|██████████| 1246/1246 [00:47<00:00, 26.05it/s, gp=0.00723, loss_critic=-0.126]\n"
          ]
        },
        {
          "output_type": "stream",
          "name": "stdout",
          "text": [
            "Epoch [28/30]\n"
          ]
        },
        {
          "output_type": "stream",
          "name": "stderr",
          "text": [
            "100%|██████████| 1246/1246 [00:46<00:00, 26.85it/s, gp=0.00682, loss_critic=0.499]\n"
          ]
        },
        {
          "output_type": "stream",
          "name": "stdout",
          "text": [
            "Epoch [29/30]\n"
          ]
        },
        {
          "output_type": "stream",
          "name": "stderr",
          "text": [
            "100%|██████████| 1246/1246 [00:46<00:00, 26.70it/s, gp=0.00309, loss_critic=0.559]\n"
          ]
        },
        {
          "output_type": "stream",
          "name": "stdout",
          "text": [
            "Epoch [30/30]\n"
          ]
        },
        {
          "output_type": "stream",
          "name": "stderr",
          "text": [
            "100%|██████████| 1246/1246 [00:47<00:00, 26.37it/s, gp=0.00245, loss_critic=-0.397]\n",
            " 58%|█████▊    | 11566/19929 [00:07<00:05, 1563.60it/s]WARNING:__main__:Skipping invalid image at index 11608: cannot identify image file <_io.BytesIO object at 0x792544cf23e0>\n",
            "100%|██████████| 19929/19929 [00:13<00:00, 1516.00it/s]\n"
          ]
        },
        {
          "output_type": "stream",
          "name": "stdout",
          "text": [
            "Current image size: 64\n",
            "Epoch [1/30]\n"
          ]
        },
        {
          "output_type": "stream",
          "name": "stderr",
          "text": [
            "100%|██████████| 1246/1246 [01:25<00:00, 14.52it/s, gp=0.00349, loss_critic=-0.0425]\n"
          ]
        },
        {
          "output_type": "stream",
          "name": "stdout",
          "text": [
            "Epoch [2/30]\n"
          ]
        },
        {
          "output_type": "stream",
          "name": "stderr",
          "text": [
            "100%|██████████| 1246/1246 [01:25<00:00, 14.54it/s, gp=0.0251, loss_critic=-0.382]\n"
          ]
        },
        {
          "output_type": "stream",
          "name": "stdout",
          "text": [
            "Epoch [3/30]\n"
          ]
        },
        {
          "output_type": "stream",
          "name": "stderr",
          "text": [
            "100%|██████████| 1246/1246 [01:25<00:00, 14.56it/s, gp=0.0133, loss_critic=-2.98]\n"
          ]
        },
        {
          "output_type": "stream",
          "name": "stdout",
          "text": [
            "Epoch [4/30]\n"
          ]
        },
        {
          "output_type": "stream",
          "name": "stderr",
          "text": [
            "100%|██████████| 1246/1246 [01:25<00:00, 14.55it/s, gp=0.0104, loss_critic=-1.15]\n"
          ]
        },
        {
          "output_type": "stream",
          "name": "stdout",
          "text": [
            "Epoch [5/30]\n"
          ]
        },
        {
          "output_type": "stream",
          "name": "stderr",
          "text": [
            "100%|██████████| 1246/1246 [01:25<00:00, 14.54it/s, gp=0.00877, loss_critic=-0.579]\n"
          ]
        },
        {
          "output_type": "stream",
          "name": "stdout",
          "text": [
            "Epoch [6/30]\n"
          ]
        },
        {
          "output_type": "stream",
          "name": "stderr",
          "text": [
            "100%|██████████| 1246/1246 [01:25<00:00, 14.53it/s, gp=0.00703, loss_critic=0.224]\n"
          ]
        },
        {
          "output_type": "stream",
          "name": "stdout",
          "text": [
            "Epoch [7/30]\n"
          ]
        },
        {
          "output_type": "stream",
          "name": "stderr",
          "text": [
            "100%|██████████| 1246/1246 [01:25<00:00, 14.55it/s, gp=0.0113, loss_critic=1.82]\n"
          ]
        },
        {
          "output_type": "stream",
          "name": "stdout",
          "text": [
            "Epoch [8/30]\n"
          ]
        },
        {
          "output_type": "stream",
          "name": "stderr",
          "text": [
            "100%|██████████| 1246/1246 [01:25<00:00, 14.55it/s, gp=0.0137, loss_critic=-0.327]\n"
          ]
        },
        {
          "output_type": "stream",
          "name": "stdout",
          "text": [
            "Epoch [9/30]\n"
          ]
        },
        {
          "output_type": "stream",
          "name": "stderr",
          "text": [
            "100%|██████████| 1246/1246 [01:25<00:00, 14.50it/s, gp=0.0106, loss_critic=-1.1]\n"
          ]
        },
        {
          "output_type": "stream",
          "name": "stdout",
          "text": [
            "Epoch [10/30]\n"
          ]
        },
        {
          "output_type": "stream",
          "name": "stderr",
          "text": [
            "100%|██████████| 1246/1246 [01:26<00:00, 14.49it/s, gp=0.00508, loss_critic=1.57]\n"
          ]
        },
        {
          "output_type": "stream",
          "name": "stdout",
          "text": [
            "Epoch [11/30]\n"
          ]
        },
        {
          "output_type": "stream",
          "name": "stderr",
          "text": [
            "100%|██████████| 1246/1246 [01:25<00:00, 14.54it/s, gp=0.00509, loss_critic=0.34]\n"
          ]
        },
        {
          "output_type": "stream",
          "name": "stdout",
          "text": [
            "Epoch [12/30]\n"
          ]
        },
        {
          "output_type": "stream",
          "name": "stderr",
          "text": [
            "100%|██████████| 1246/1246 [01:25<00:00, 14.57it/s, gp=0.0112, loss_critic=-0.736]\n"
          ]
        },
        {
          "output_type": "stream",
          "name": "stdout",
          "text": [
            "Epoch [13/30]\n"
          ]
        },
        {
          "output_type": "stream",
          "name": "stderr",
          "text": [
            "100%|██████████| 1246/1246 [01:25<00:00, 14.59it/s, gp=0.0382, loss_critic=0.325]\n"
          ]
        },
        {
          "output_type": "stream",
          "name": "stdout",
          "text": [
            "Epoch [14/30]\n"
          ]
        },
        {
          "output_type": "stream",
          "name": "stderr",
          "text": [
            "100%|██████████| 1246/1246 [01:25<00:00, 14.53it/s, gp=0.0104, loss_critic=0.101]\n"
          ]
        },
        {
          "output_type": "stream",
          "name": "stdout",
          "text": [
            "Epoch [15/30]\n"
          ]
        },
        {
          "output_type": "stream",
          "name": "stderr",
          "text": [
            "100%|██████████| 1246/1246 [01:25<00:00, 14.55it/s, gp=0.00573, loss_critic=-0.239]\n"
          ]
        },
        {
          "output_type": "stream",
          "name": "stdout",
          "text": [
            "Epoch [16/30]\n"
          ]
        },
        {
          "output_type": "stream",
          "name": "stderr",
          "text": [
            "100%|██████████| 1246/1246 [01:25<00:00, 14.53it/s, gp=0.0129, loss_critic=0.308]\n"
          ]
        },
        {
          "output_type": "stream",
          "name": "stdout",
          "text": [
            "Epoch [17/30]\n"
          ]
        },
        {
          "output_type": "stream",
          "name": "stderr",
          "text": [
            "100%|██████████| 1246/1246 [01:25<00:00, 14.49it/s, gp=0.00237, loss_critic=0.203]\n"
          ]
        },
        {
          "output_type": "stream",
          "name": "stdout",
          "text": [
            "Epoch [18/30]\n"
          ]
        },
        {
          "output_type": "stream",
          "name": "stderr",
          "text": [
            "100%|██████████| 1246/1246 [01:25<00:00, 14.61it/s, gp=0.00389, loss_critic=0.0247]\n"
          ]
        },
        {
          "output_type": "stream",
          "name": "stdout",
          "text": [
            "Epoch [19/30]\n"
          ]
        },
        {
          "output_type": "stream",
          "name": "stderr",
          "text": [
            "100%|██████████| 1246/1246 [01:25<00:00, 14.58it/s, gp=0.0118, loss_critic=0.667]\n"
          ]
        },
        {
          "output_type": "stream",
          "name": "stdout",
          "text": [
            "Epoch [20/30]\n"
          ]
        },
        {
          "output_type": "stream",
          "name": "stderr",
          "text": [
            "100%|██████████| 1246/1246 [01:25<00:00, 14.63it/s, gp=0.014, loss_critic=-0.0246]\n"
          ]
        },
        {
          "output_type": "stream",
          "name": "stdout",
          "text": [
            "Epoch [21/30]\n"
          ]
        },
        {
          "output_type": "stream",
          "name": "stderr",
          "text": [
            "100%|██████████| 1246/1246 [01:25<00:00, 14.57it/s, gp=0.00471, loss_critic=0.264]\n"
          ]
        },
        {
          "output_type": "stream",
          "name": "stdout",
          "text": [
            "Epoch [22/30]\n"
          ]
        },
        {
          "output_type": "stream",
          "name": "stderr",
          "text": [
            "100%|██████████| 1246/1246 [01:25<00:00, 14.53it/s, gp=0.0039, loss_critic=0.179]\n"
          ]
        },
        {
          "output_type": "stream",
          "name": "stdout",
          "text": [
            "Epoch [23/30]\n"
          ]
        },
        {
          "output_type": "stream",
          "name": "stderr",
          "text": [
            "100%|██████████| 1246/1246 [01:25<00:00, 14.56it/s, gp=0.00347, loss_critic=-0.559]\n"
          ]
        },
        {
          "output_type": "stream",
          "name": "stdout",
          "text": [
            "Epoch [24/30]\n"
          ]
        },
        {
          "output_type": "stream",
          "name": "stderr",
          "text": [
            "100%|██████████| 1246/1246 [01:25<00:00, 14.63it/s, gp=0.00539, loss_critic=-0.589]\n"
          ]
        },
        {
          "output_type": "stream",
          "name": "stdout",
          "text": [
            "Epoch [25/30]\n"
          ]
        },
        {
          "output_type": "stream",
          "name": "stderr",
          "text": [
            "100%|██████████| 1246/1246 [01:25<00:00, 14.64it/s, gp=0.00863, loss_critic=-0.175]\n"
          ]
        },
        {
          "output_type": "stream",
          "name": "stdout",
          "text": [
            "Epoch [26/30]\n"
          ]
        },
        {
          "output_type": "stream",
          "name": "stderr",
          "text": [
            "100%|██████████| 1246/1246 [01:25<00:00, 14.64it/s, gp=0.0182, loss_critic=0.115]\n"
          ]
        },
        {
          "output_type": "stream",
          "name": "stdout",
          "text": [
            "Epoch [27/30]\n"
          ]
        },
        {
          "output_type": "stream",
          "name": "stderr",
          "text": [
            "100%|██████████| 1246/1246 [01:25<00:00, 14.64it/s, gp=0.0057, loss_critic=-1.01]\n"
          ]
        },
        {
          "output_type": "stream",
          "name": "stdout",
          "text": [
            "Epoch [28/30]\n"
          ]
        },
        {
          "output_type": "stream",
          "name": "stderr",
          "text": [
            "100%|██████████| 1246/1246 [01:25<00:00, 14.57it/s, gp=0.0051, loss_critic=-0.0376]\n"
          ]
        },
        {
          "output_type": "stream",
          "name": "stdout",
          "text": [
            "Epoch [29/30]\n"
          ]
        },
        {
          "output_type": "stream",
          "name": "stderr",
          "text": [
            "100%|██████████| 1246/1246 [01:25<00:00, 14.62it/s, gp=0.00327, loss_critic=0.938]\n"
          ]
        },
        {
          "output_type": "stream",
          "name": "stdout",
          "text": [
            "Epoch [30/30]\n"
          ]
        },
        {
          "output_type": "stream",
          "name": "stderr",
          "text": [
            "100%|██████████| 1246/1246 [01:24<00:00, 14.66it/s, gp=0.00556, loss_critic=0.202]\n",
            " 58%|█████▊    | 11471/19929 [00:07<00:05, 1425.37it/s]WARNING:__main__:Skipping invalid image at index 11608: cannot identify image file <_io.BytesIO object at 0x792544c46480>\n",
            "100%|██████████| 19929/19929 [00:13<00:00, 1489.16it/s]\n"
          ]
        },
        {
          "output_type": "stream",
          "name": "stdout",
          "text": [
            "Current image size: 128\n",
            "Epoch [1/30]\n"
          ]
        },
        {
          "output_type": "stream",
          "name": "stderr",
          "text": [
            "100%|██████████| 1246/1246 [03:06<00:00,  6.69it/s, gp=0.028, loss_critic=-1.21]\n"
          ]
        },
        {
          "output_type": "stream",
          "name": "stdout",
          "text": [
            "Epoch [2/30]\n"
          ]
        },
        {
          "output_type": "stream",
          "name": "stderr",
          "text": [
            "100%|██████████| 1246/1246 [03:06<00:00,  6.69it/s, gp=0.109, loss_critic=-2.1]\n"
          ]
        },
        {
          "output_type": "stream",
          "name": "stdout",
          "text": [
            "Epoch [3/30]\n"
          ]
        },
        {
          "output_type": "stream",
          "name": "stderr",
          "text": [
            "100%|██████████| 1246/1246 [03:06<00:00,  6.69it/s, gp=0.0985, loss_critic=-3]\n"
          ]
        },
        {
          "output_type": "stream",
          "name": "stdout",
          "text": [
            "Epoch [4/30]\n"
          ]
        },
        {
          "output_type": "stream",
          "name": "stderr",
          "text": [
            "100%|██████████| 1246/1246 [03:06<00:00,  6.69it/s, gp=0.013, loss_critic=-1.51]\n"
          ]
        },
        {
          "output_type": "stream",
          "name": "stdout",
          "text": [
            "Epoch [5/30]\n"
          ]
        },
        {
          "output_type": "stream",
          "name": "stderr",
          "text": [
            "100%|██████████| 1246/1246 [03:06<00:00,  6.68it/s, gp=0.0228, loss_critic=-0.691]\n"
          ]
        },
        {
          "output_type": "stream",
          "name": "stdout",
          "text": [
            "Epoch [6/30]\n"
          ]
        },
        {
          "output_type": "stream",
          "name": "stderr",
          "text": [
            "100%|██████████| 1246/1246 [03:06<00:00,  6.68it/s, gp=0.0132, loss_critic=0.531]\n"
          ]
        },
        {
          "output_type": "stream",
          "name": "stdout",
          "text": [
            "Epoch [7/30]\n"
          ]
        },
        {
          "output_type": "stream",
          "name": "stderr",
          "text": [
            "100%|██████████| 1246/1246 [03:06<00:00,  6.69it/s, gp=0.0431, loss_critic=0.186]\n"
          ]
        },
        {
          "output_type": "stream",
          "name": "stdout",
          "text": [
            "Epoch [8/30]\n"
          ]
        },
        {
          "output_type": "stream",
          "name": "stderr",
          "text": [
            "100%|██████████| 1246/1246 [03:06<00:00,  6.69it/s, gp=0.00767, loss_critic=0.303]\n"
          ]
        },
        {
          "output_type": "stream",
          "name": "stdout",
          "text": [
            "Epoch [9/30]\n"
          ]
        },
        {
          "output_type": "stream",
          "name": "stderr",
          "text": [
            "100%|██████████| 1246/1246 [03:06<00:00,  6.69it/s, gp=0.00872, loss_critic=-0.507]\n"
          ]
        },
        {
          "output_type": "stream",
          "name": "stdout",
          "text": [
            "Epoch [10/30]\n"
          ]
        },
        {
          "output_type": "stream",
          "name": "stderr",
          "text": [
            "100%|██████████| 1246/1246 [03:06<00:00,  6.70it/s, gp=0.0158, loss_critic=-0.302]\n"
          ]
        },
        {
          "output_type": "stream",
          "name": "stdout",
          "text": [
            "Epoch [11/30]\n"
          ]
        },
        {
          "output_type": "stream",
          "name": "stderr",
          "text": [
            "100%|██████████| 1246/1246 [03:06<00:00,  6.70it/s, gp=0.00957, loss_critic=1.52]\n"
          ]
        },
        {
          "output_type": "stream",
          "name": "stdout",
          "text": [
            "Epoch [12/30]\n"
          ]
        },
        {
          "output_type": "stream",
          "name": "stderr",
          "text": [
            "100%|██████████| 1246/1246 [03:05<00:00,  6.70it/s, gp=0.00292, loss_critic=0.0441]\n"
          ]
        },
        {
          "output_type": "stream",
          "name": "stdout",
          "text": [
            "Epoch [13/30]\n"
          ]
        },
        {
          "output_type": "stream",
          "name": "stderr",
          "text": [
            "100%|██████████| 1246/1246 [03:06<00:00,  6.70it/s, gp=0.00504, loss_critic=-0.486]\n"
          ]
        },
        {
          "output_type": "stream",
          "name": "stdout",
          "text": [
            "Epoch [14/30]\n"
          ]
        },
        {
          "output_type": "stream",
          "name": "stderr",
          "text": [
            "100%|██████████| 1246/1246 [03:06<00:00,  6.70it/s, gp=0.0326, loss_critic=-0.614]\n"
          ]
        },
        {
          "output_type": "stream",
          "name": "stdout",
          "text": [
            "Epoch [15/30]\n"
          ]
        },
        {
          "output_type": "stream",
          "name": "stderr",
          "text": [
            "100%|██████████| 1246/1246 [03:06<00:00,  6.70it/s, gp=0.0109, loss_critic=0.579]\n"
          ]
        },
        {
          "output_type": "stream",
          "name": "stdout",
          "text": [
            "Epoch [16/30]\n"
          ]
        },
        {
          "output_type": "stream",
          "name": "stderr",
          "text": [
            "100%|██████████| 1246/1246 [03:06<00:00,  6.70it/s, gp=0.0132, loss_critic=-0.952]\n"
          ]
        },
        {
          "output_type": "stream",
          "name": "stdout",
          "text": [
            "Epoch [17/30]\n"
          ]
        },
        {
          "output_type": "stream",
          "name": "stderr",
          "text": [
            "100%|██████████| 1246/1246 [03:06<00:00,  6.70it/s, gp=0.00485, loss_critic=0.201]\n"
          ]
        },
        {
          "output_type": "stream",
          "name": "stdout",
          "text": [
            "Epoch [18/30]\n"
          ]
        },
        {
          "output_type": "stream",
          "name": "stderr",
          "text": [
            "100%|██████████| 1246/1246 [03:06<00:00,  6.70it/s, gp=0.00675, loss_critic=-0.835]\n"
          ]
        },
        {
          "output_type": "stream",
          "name": "stdout",
          "text": [
            "Epoch [19/30]\n"
          ]
        },
        {
          "output_type": "stream",
          "name": "stderr",
          "text": [
            "100%|██████████| 1246/1246 [03:06<00:00,  6.70it/s, gp=0.0239, loss_critic=-0.512]\n"
          ]
        },
        {
          "output_type": "stream",
          "name": "stdout",
          "text": [
            "Epoch [20/30]\n"
          ]
        },
        {
          "output_type": "stream",
          "name": "stderr",
          "text": [
            "100%|██████████| 1246/1246 [03:06<00:00,  6.70it/s, gp=0.0262, loss_critic=0.205]\n"
          ]
        },
        {
          "output_type": "stream",
          "name": "stdout",
          "text": [
            "Epoch [21/30]\n"
          ]
        },
        {
          "output_type": "stream",
          "name": "stderr",
          "text": [
            "100%|██████████| 1246/1246 [03:05<00:00,  6.70it/s, gp=0.0139, loss_critic=-0.58]\n"
          ]
        },
        {
          "output_type": "stream",
          "name": "stdout",
          "text": [
            "Epoch [22/30]\n"
          ]
        },
        {
          "output_type": "stream",
          "name": "stderr",
          "text": [
            "100%|██████████| 1246/1246 [03:06<00:00,  6.70it/s, gp=0.0112, loss_critic=-0.73]\n"
          ]
        },
        {
          "output_type": "stream",
          "name": "stdout",
          "text": [
            "Epoch [23/30]\n"
          ]
        },
        {
          "output_type": "stream",
          "name": "stderr",
          "text": [
            "100%|██████████| 1246/1246 [03:06<00:00,  6.70it/s, gp=0.00438, loss_critic=-0.628]\n"
          ]
        },
        {
          "output_type": "stream",
          "name": "stdout",
          "text": [
            "Epoch [24/30]\n"
          ]
        },
        {
          "output_type": "stream",
          "name": "stderr",
          "text": [
            "100%|██████████| 1246/1246 [03:06<00:00,  6.70it/s, gp=0.0227, loss_critic=-0.773]\n"
          ]
        },
        {
          "output_type": "stream",
          "name": "stdout",
          "text": [
            "Epoch [25/30]\n"
          ]
        },
        {
          "output_type": "stream",
          "name": "stderr",
          "text": [
            "100%|██████████| 1246/1246 [03:06<00:00,  6.70it/s, gp=0.0151, loss_critic=0.691]\n"
          ]
        },
        {
          "output_type": "stream",
          "name": "stdout",
          "text": [
            "Epoch [26/30]\n"
          ]
        },
        {
          "output_type": "stream",
          "name": "stderr",
          "text": [
            "100%|██████████| 1246/1246 [03:06<00:00,  6.70it/s, gp=0.00187, loss_critic=-0.666]\n"
          ]
        },
        {
          "output_type": "stream",
          "name": "stdout",
          "text": [
            "Epoch [27/30]\n"
          ]
        },
        {
          "output_type": "stream",
          "name": "stderr",
          "text": [
            "100%|██████████| 1246/1246 [03:06<00:00,  6.70it/s, gp=0.00326, loss_critic=-0.184]\n"
          ]
        },
        {
          "output_type": "stream",
          "name": "stdout",
          "text": [
            "Epoch [28/30]\n"
          ]
        },
        {
          "output_type": "stream",
          "name": "stderr",
          "text": [
            "100%|██████████| 1246/1246 [03:05<00:00,  6.70it/s, gp=0.00686, loss_critic=-0.626]\n"
          ]
        },
        {
          "output_type": "stream",
          "name": "stdout",
          "text": [
            "Epoch [29/30]\n"
          ]
        },
        {
          "output_type": "stream",
          "name": "stderr",
          "text": [
            "100%|██████████| 1246/1246 [03:06<00:00,  6.70it/s, gp=0.037, loss_critic=1.17]\n"
          ]
        },
        {
          "output_type": "stream",
          "name": "stdout",
          "text": [
            "Epoch [30/30]\n"
          ]
        },
        {
          "output_type": "stream",
          "name": "stderr",
          "text": [
            "100%|██████████| 1246/1246 [03:06<00:00,  6.70it/s, gp=0.00355, loss_critic=-1.03]\n"
          ]
        }
      ]
    },
    {
      "cell_type": "code",
      "source": [
        "from google.colab import drive\n",
        "drive.mount('/content/drive')"
      ],
      "metadata": {
        "colab": {
          "base_uri": "https://localhost:8080/"
        },
        "id": "Y3GUrT3msZjv",
        "outputId": "3fe87fba-533d-49d0-9b43-f08421735edf"
      },
      "execution_count": null,
      "outputs": [
        {
          "output_type": "stream",
          "name": "stdout",
          "text": [
            "Drive already mounted at /content/drive; to attempt to forcibly remount, call drive.mount(\"/content/drive\", force_remount=True).\n"
          ]
        }
      ]
    },
    {
      "cell_type": "code",
      "source": [
        "torch.save(gen.state_dict(), 'progan_generator.pt')\n",
        "torch.save(critic.state_dict(), 'progan_critic.pt')"
      ],
      "metadata": {
        "id": "XU40jg575aaa"
      },
      "execution_count": null,
      "outputs": []
    },
    {
      "cell_type": "code",
      "source": [
        "gen.state_dict = torch.load('/content/drive/MyDrive/My_Folder/models/progan_generator.pt')\n",
        "print(gen.state_dict.keys())\n",
        "\n",
        "critic.state_dict = torch.load('/content/drive/MyDrive/My_Folder/models/progan_critic.pt')\n",
        "print(critic.state_dict.keys())\n",
        "\n",
        "gen.load_state_dict(gen.state_dict)\n",
        "critic.load_state_dict(critic.state_dict)"
      ],
      "metadata": {
        "colab": {
          "base_uri": "https://localhost:8080/"
        },
        "id": "KVTsiIdE-mjU",
        "outputId": "f42728d3-f048-4a2a-edbe-53773e32c870"
      },
      "execution_count": null,
      "outputs": [
        {
          "output_type": "stream",
          "name": "stdout",
          "text": [
            "odict_keys(['initial.1.weight', 'initial.1.bias', 'initial.3.bias', 'initial.3.conv.weight', 'initial_rgb.bias', 'initial_rgb.conv.weight', 'prog_blocks.0.conv1.bias', 'prog_blocks.0.conv1.conv.weight', 'prog_blocks.0.conv2.bias', 'prog_blocks.0.conv2.conv.weight', 'prog_blocks.1.conv1.bias', 'prog_blocks.1.conv1.conv.weight', 'prog_blocks.1.conv2.bias', 'prog_blocks.1.conv2.conv.weight', 'prog_blocks.2.conv1.bias', 'prog_blocks.2.conv1.conv.weight', 'prog_blocks.2.conv2.bias', 'prog_blocks.2.conv2.conv.weight', 'prog_blocks.3.conv1.bias', 'prog_blocks.3.conv1.conv.weight', 'prog_blocks.3.conv2.bias', 'prog_blocks.3.conv2.conv.weight', 'prog_blocks.4.conv1.bias', 'prog_blocks.4.conv1.conv.weight', 'prog_blocks.4.conv2.bias', 'prog_blocks.4.conv2.conv.weight', 'prog_blocks.5.conv1.bias', 'prog_blocks.5.conv1.conv.weight', 'prog_blocks.5.conv2.bias', 'prog_blocks.5.conv2.conv.weight', 'prog_blocks.6.conv1.bias', 'prog_blocks.6.conv1.conv.weight', 'prog_blocks.6.conv2.bias', 'prog_blocks.6.conv2.conv.weight', 'prog_blocks.7.conv1.bias', 'prog_blocks.7.conv1.conv.weight', 'prog_blocks.7.conv2.bias', 'prog_blocks.7.conv2.conv.weight', 'rgb_layers.0.bias', 'rgb_layers.0.conv.weight', 'rgb_layers.1.bias', 'rgb_layers.1.conv.weight', 'rgb_layers.2.bias', 'rgb_layers.2.conv.weight', 'rgb_layers.3.bias', 'rgb_layers.3.conv.weight', 'rgb_layers.4.bias', 'rgb_layers.4.conv.weight', 'rgb_layers.5.bias', 'rgb_layers.5.conv.weight', 'rgb_layers.6.bias', 'rgb_layers.6.conv.weight', 'rgb_layers.7.bias', 'rgb_layers.7.conv.weight', 'rgb_layers.8.bias', 'rgb_layers.8.conv.weight'])\n",
            "odict_keys(['prog_blocks.0.conv1.bias', 'prog_blocks.0.conv1.conv.weight', 'prog_blocks.0.conv2.bias', 'prog_blocks.0.conv2.conv.weight', 'prog_blocks.1.conv1.bias', 'prog_blocks.1.conv1.conv.weight', 'prog_blocks.1.conv2.bias', 'prog_blocks.1.conv2.conv.weight', 'prog_blocks.2.conv1.bias', 'prog_blocks.2.conv1.conv.weight', 'prog_blocks.2.conv2.bias', 'prog_blocks.2.conv2.conv.weight', 'prog_blocks.3.conv1.bias', 'prog_blocks.3.conv1.conv.weight', 'prog_blocks.3.conv2.bias', 'prog_blocks.3.conv2.conv.weight', 'prog_blocks.4.conv1.bias', 'prog_blocks.4.conv1.conv.weight', 'prog_blocks.4.conv2.bias', 'prog_blocks.4.conv2.conv.weight', 'prog_blocks.5.conv1.bias', 'prog_blocks.5.conv1.conv.weight', 'prog_blocks.5.conv2.bias', 'prog_blocks.5.conv2.conv.weight', 'prog_blocks.6.conv1.bias', 'prog_blocks.6.conv1.conv.weight', 'prog_blocks.6.conv2.bias', 'prog_blocks.6.conv2.conv.weight', 'prog_blocks.7.conv1.bias', 'prog_blocks.7.conv1.conv.weight', 'prog_blocks.7.conv2.bias', 'prog_blocks.7.conv2.conv.weight', 'rgb_layers.0.bias', 'rgb_layers.0.conv.weight', 'rgb_layers.1.bias', 'rgb_layers.1.conv.weight', 'rgb_layers.2.bias', 'rgb_layers.2.conv.weight', 'rgb_layers.3.bias', 'rgb_layers.3.conv.weight', 'rgb_layers.4.bias', 'rgb_layers.4.conv.weight', 'rgb_layers.5.bias', 'rgb_layers.5.conv.weight', 'rgb_layers.6.bias', 'rgb_layers.6.conv.weight', 'rgb_layers.7.bias', 'rgb_layers.7.conv.weight', 'rgb_layers.8.bias', 'rgb_layers.8.conv.weight', 'initial_rgb.bias', 'initial_rgb.conv.weight', 'final_block.0.bias', 'final_block.0.conv.weight', 'final_block.2.bias', 'final_block.2.conv.weight', 'final_block.4.bias', 'final_block.4.conv.weight'])\n"
          ]
        },
        {
          "output_type": "stream",
          "name": "stderr",
          "text": [
            "<ipython-input-19-08e860be045a>:1: FutureWarning: You are using `torch.load` with `weights_only=False` (the current default value), which uses the default pickle module implicitly. It is possible to construct malicious pickle data which will execute arbitrary code during unpickling (See https://github.com/pytorch/pytorch/blob/main/SECURITY.md#untrusted-models for more details). In a future release, the default value for `weights_only` will be flipped to `True`. This limits the functions that could be executed during unpickling. Arbitrary objects will no longer be allowed to be loaded via this mode unless they are explicitly allowlisted by the user via `torch.serialization.add_safe_globals`. We recommend you start setting `weights_only=True` for any use case where you don't have full control of the loaded file. Please open an issue on GitHub for any issues related to this experimental feature.\n",
            "  gen.state_dict = torch.load('/content/drive/MyDrive/My_Folder/models/progan_generator.pt')\n",
            "<ipython-input-19-08e860be045a>:4: FutureWarning: You are using `torch.load` with `weights_only=False` (the current default value), which uses the default pickle module implicitly. It is possible to construct malicious pickle data which will execute arbitrary code during unpickling (See https://github.com/pytorch/pytorch/blob/main/SECURITY.md#untrusted-models for more details). In a future release, the default value for `weights_only` will be flipped to `True`. This limits the functions that could be executed during unpickling. Arbitrary objects will no longer be allowed to be loaded via this mode unless they are explicitly allowlisted by the user via `torch.serialization.add_safe_globals`. We recommend you start setting `weights_only=True` for any use case where you don't have full control of the loaded file. Please open an issue on GitHub for any issues related to this experimental feature.\n",
            "  critic.state_dict = torch.load('/content/drive/MyDrive/My_Folder/models/progan_critic.pt')\n"
          ]
        },
        {
          "output_type": "execute_result",
          "data": {
            "text/plain": [
              "<All keys matched successfully>"
            ]
          },
          "metadata": {},
          "execution_count": 19
        }
      ]
    }
  ]
}